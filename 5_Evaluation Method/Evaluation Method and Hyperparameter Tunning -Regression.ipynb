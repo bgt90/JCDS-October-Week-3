{
 "cells": [
  {
   "cell_type": "code",
   "execution_count": 1,
   "metadata": {
    "ExecuteTime": {
     "end_time": "2022-01-13T02:36:02.305544Z",
     "start_time": "2022-01-13T02:36:01.312751Z"
    }
   },
   "outputs": [
    {
     "name": "stderr",
     "output_type": "stream",
     "text": [
      "<frozen importlib._bootstrap>:219: RuntimeWarning: numpy.ufunc size changed, may indicate binary incompatibility. Expected 192 from C header, got 216 from PyObject\n"
     ]
    }
   ],
   "source": [
    "import pandas as pd\n",
    "import numpy as np\n",
    "\n",
    "import matplotlib.pyplot as plt\n",
    "import seaborn as sns\n",
    "\n",
    "from sklearn.model_selection import train_test_split, cross_val_score\n"
   ]
  },
  {
   "cell_type": "markdown",
   "metadata": {},
   "source": [
    "# Data: tips dataset"
   ]
  },
  {
   "cell_type": "code",
   "execution_count": 2,
   "metadata": {
    "ExecuteTime": {
     "end_time": "2022-01-13T02:36:18.902695Z",
     "start_time": "2022-01-13T02:36:18.846606Z"
    }
   },
   "outputs": [
    {
     "data": {
      "text/html": [
       "<div>\n",
       "<style scoped>\n",
       "    .dataframe tbody tr th:only-of-type {\n",
       "        vertical-align: middle;\n",
       "    }\n",
       "\n",
       "    .dataframe tbody tr th {\n",
       "        vertical-align: top;\n",
       "    }\n",
       "\n",
       "    .dataframe thead th {\n",
       "        text-align: right;\n",
       "    }\n",
       "</style>\n",
       "<table border=\"1\" class=\"dataframe\">\n",
       "  <thead>\n",
       "    <tr style=\"text-align: right;\">\n",
       "      <th></th>\n",
       "      <th>total_bill</th>\n",
       "      <th>tip</th>\n",
       "      <th>sex</th>\n",
       "      <th>smoker</th>\n",
       "      <th>day</th>\n",
       "      <th>time</th>\n",
       "      <th>size</th>\n",
       "    </tr>\n",
       "  </thead>\n",
       "  <tbody>\n",
       "    <tr>\n",
       "      <th>0</th>\n",
       "      <td>16.99</td>\n",
       "      <td>1.01</td>\n",
       "      <td>Female</td>\n",
       "      <td>No</td>\n",
       "      <td>Sun</td>\n",
       "      <td>Dinner</td>\n",
       "      <td>2</td>\n",
       "    </tr>\n",
       "    <tr>\n",
       "      <th>1</th>\n",
       "      <td>10.34</td>\n",
       "      <td>1.66</td>\n",
       "      <td>Male</td>\n",
       "      <td>No</td>\n",
       "      <td>Sun</td>\n",
       "      <td>Dinner</td>\n",
       "      <td>3</td>\n",
       "    </tr>\n",
       "    <tr>\n",
       "      <th>2</th>\n",
       "      <td>21.01</td>\n",
       "      <td>3.50</td>\n",
       "      <td>Male</td>\n",
       "      <td>No</td>\n",
       "      <td>Sun</td>\n",
       "      <td>Dinner</td>\n",
       "      <td>3</td>\n",
       "    </tr>\n",
       "    <tr>\n",
       "      <th>3</th>\n",
       "      <td>23.68</td>\n",
       "      <td>3.31</td>\n",
       "      <td>Male</td>\n",
       "      <td>No</td>\n",
       "      <td>Sun</td>\n",
       "      <td>Dinner</td>\n",
       "      <td>2</td>\n",
       "    </tr>\n",
       "    <tr>\n",
       "      <th>4</th>\n",
       "      <td>24.59</td>\n",
       "      <td>3.61</td>\n",
       "      <td>Female</td>\n",
       "      <td>No</td>\n",
       "      <td>Sun</td>\n",
       "      <td>Dinner</td>\n",
       "      <td>4</td>\n",
       "    </tr>\n",
       "  </tbody>\n",
       "</table>\n",
       "</div>"
      ],
      "text/plain": [
       "   total_bill   tip     sex smoker  day    time  size\n",
       "0       16.99  1.01  Female     No  Sun  Dinner     2\n",
       "1       10.34  1.66    Male     No  Sun  Dinner     3\n",
       "2       21.01  3.50    Male     No  Sun  Dinner     3\n",
       "3       23.68  3.31    Male     No  Sun  Dinner     2\n",
       "4       24.59  3.61  Female     No  Sun  Dinner     4"
      ]
     },
     "execution_count": 2,
     "metadata": {},
     "output_type": "execute_result"
    }
   ],
   "source": [
    "tips= sns.load_dataset('tips')\n",
    "tips.head()"
   ]
  },
  {
   "cell_type": "code",
   "execution_count": 3,
   "metadata": {
    "ExecuteTime": {
     "end_time": "2022-01-13T02:38:08.620970Z",
     "start_time": "2022-01-13T02:38:08.605725Z"
    }
   },
   "outputs": [],
   "source": [
    "x= tips.drop(columns='tip')\n",
    "y= tips['tip']"
   ]
  },
  {
   "cell_type": "code",
   "execution_count": 5,
   "metadata": {
    "ExecuteTime": {
     "end_time": "2022-01-13T02:39:15.761536Z",
     "start_time": "2022-01-13T02:39:15.737644Z"
    }
   },
   "outputs": [],
   "source": [
    "# encode getdummies\n",
    "x=pd.get_dummies(x,columns=['sex','smoker','day','time'], drop_first=True)"
   ]
  },
  {
   "cell_type": "code",
   "execution_count": 6,
   "metadata": {
    "ExecuteTime": {
     "end_time": "2022-01-13T02:40:03.088066Z",
     "start_time": "2022-01-13T02:40:03.072926Z"
    }
   },
   "outputs": [],
   "source": [
    "# Splitting data\n",
    "x_train, x_test, y_train, y_test=train_test_split(x,y,test_size=0.2, random_state=2020)"
   ]
  },
  {
   "cell_type": "markdown",
   "metadata": {},
   "source": [
    "# Benchmark Model"
   ]
  },
  {
   "cell_type": "code",
   "execution_count": 7,
   "metadata": {
    "ExecuteTime": {
     "end_time": "2022-01-13T02:41:58.069169Z",
     "start_time": "2022-01-13T02:41:58.059202Z"
    }
   },
   "outputs": [],
   "source": [
    "from sklearn.tree import DecisionTreeRegressor\n",
    "from sklearn.linear_model import LinearRegression\n",
    "from sklearn.neighbors import KNeighborsRegressor\n",
    "\n",
    "from sklearn.metrics import mean_squared_error"
   ]
  },
  {
   "cell_type": "code",
   "execution_count": 12,
   "metadata": {
    "ExecuteTime": {
     "end_time": "2022-01-13T02:49:34.414095Z",
     "start_time": "2022-01-13T02:49:34.408582Z"
    }
   },
   "outputs": [],
   "source": [
    "tree= DecisionTreeRegressor(criterion='squared_error', max_depth=5, random_state=2020) #versi lama: criterion='mse'\n",
    "linreg= LinearRegression()\n",
    "knn= KNeighborsRegressor()"
   ]
  },
  {
   "cell_type": "code",
   "execution_count": 13,
   "metadata": {
    "ExecuteTime": {
     "end_time": "2022-01-13T02:49:35.025854Z",
     "start_time": "2022-01-13T02:49:35.019840Z"
    }
   },
   "outputs": [],
   "source": [
    "from sklearn.metrics import SCORERS"
   ]
  },
  {
   "cell_type": "code",
   "execution_count": 14,
   "metadata": {
    "ExecuteTime": {
     "end_time": "2022-01-13T02:49:35.290794Z",
     "start_time": "2022-01-13T02:49:35.270314Z"
    }
   },
   "outputs": [
    {
     "data": {
      "text/plain": [
       "{'explained_variance': make_scorer(explained_variance_score),\n",
       " 'r2': make_scorer(r2_score),\n",
       " 'max_error': make_scorer(max_error, greater_is_better=False),\n",
       " 'neg_median_absolute_error': make_scorer(median_absolute_error, greater_is_better=False),\n",
       " 'neg_mean_absolute_error': make_scorer(mean_absolute_error, greater_is_better=False),\n",
       " 'neg_mean_absolute_percentage_error': make_scorer(mean_absolute_percentage_error, greater_is_better=False),\n",
       " 'neg_mean_squared_error': make_scorer(mean_squared_error, greater_is_better=False),\n",
       " 'neg_mean_squared_log_error': make_scorer(mean_squared_log_error, greater_is_better=False),\n",
       " 'neg_root_mean_squared_error': make_scorer(mean_squared_error, greater_is_better=False, squared=False),\n",
       " 'neg_mean_poisson_deviance': make_scorer(mean_poisson_deviance, greater_is_better=False),\n",
       " 'neg_mean_gamma_deviance': make_scorer(mean_gamma_deviance, greater_is_better=False),\n",
       " 'accuracy': make_scorer(accuracy_score),\n",
       " 'top_k_accuracy': make_scorer(top_k_accuracy_score, needs_threshold=True),\n",
       " 'roc_auc': make_scorer(roc_auc_score, needs_threshold=True),\n",
       " 'roc_auc_ovr': make_scorer(roc_auc_score, needs_proba=True, multi_class=ovr),\n",
       " 'roc_auc_ovo': make_scorer(roc_auc_score, needs_proba=True, multi_class=ovo),\n",
       " 'roc_auc_ovr_weighted': make_scorer(roc_auc_score, needs_proba=True, multi_class=ovr, average=weighted),\n",
       " 'roc_auc_ovo_weighted': make_scorer(roc_auc_score, needs_proba=True, multi_class=ovo, average=weighted),\n",
       " 'balanced_accuracy': make_scorer(balanced_accuracy_score),\n",
       " 'average_precision': make_scorer(average_precision_score, needs_threshold=True),\n",
       " 'neg_log_loss': make_scorer(log_loss, greater_is_better=False, needs_proba=True),\n",
       " 'neg_brier_score': make_scorer(brier_score_loss, greater_is_better=False, needs_proba=True),\n",
       " 'adjusted_rand_score': make_scorer(adjusted_rand_score),\n",
       " 'rand_score': make_scorer(rand_score),\n",
       " 'homogeneity_score': make_scorer(homogeneity_score),\n",
       " 'completeness_score': make_scorer(completeness_score),\n",
       " 'v_measure_score': make_scorer(v_measure_score),\n",
       " 'mutual_info_score': make_scorer(mutual_info_score),\n",
       " 'adjusted_mutual_info_score': make_scorer(adjusted_mutual_info_score),\n",
       " 'normalized_mutual_info_score': make_scorer(normalized_mutual_info_score),\n",
       " 'fowlkes_mallows_score': make_scorer(fowlkes_mallows_score),\n",
       " 'precision': make_scorer(precision_score, average=binary),\n",
       " 'precision_macro': make_scorer(precision_score, pos_label=None, average=macro),\n",
       " 'precision_micro': make_scorer(precision_score, pos_label=None, average=micro),\n",
       " 'precision_samples': make_scorer(precision_score, pos_label=None, average=samples),\n",
       " 'precision_weighted': make_scorer(precision_score, pos_label=None, average=weighted),\n",
       " 'recall': make_scorer(recall_score, average=binary),\n",
       " 'recall_macro': make_scorer(recall_score, pos_label=None, average=macro),\n",
       " 'recall_micro': make_scorer(recall_score, pos_label=None, average=micro),\n",
       " 'recall_samples': make_scorer(recall_score, pos_label=None, average=samples),\n",
       " 'recall_weighted': make_scorer(recall_score, pos_label=None, average=weighted),\n",
       " 'f1': make_scorer(f1_score, average=binary),\n",
       " 'f1_macro': make_scorer(f1_score, pos_label=None, average=macro),\n",
       " 'f1_micro': make_scorer(f1_score, pos_label=None, average=micro),\n",
       " 'f1_samples': make_scorer(f1_score, pos_label=None, average=samples),\n",
       " 'f1_weighted': make_scorer(f1_score, pos_label=None, average=weighted),\n",
       " 'jaccard': make_scorer(jaccard_score, average=binary),\n",
       " 'jaccard_macro': make_scorer(jaccard_score, pos_label=None, average=macro),\n",
       " 'jaccard_micro': make_scorer(jaccard_score, pos_label=None, average=micro),\n",
       " 'jaccard_samples': make_scorer(jaccard_score, pos_label=None, average=samples),\n",
       " 'jaccard_weighted': make_scorer(jaccard_score, pos_label=None, average=weighted)}"
      ]
     },
     "execution_count": 14,
     "metadata": {},
     "output_type": "execute_result"
    }
   ],
   "source": [
    "SCORERS\n",
    "# semua score pada sklearn yang siap digunakan\n",
    "# untuk metrik2 regresi disediakan dalam bentuk negatif\n",
    "# karena metrik2 tersebut semakin bagus ketika nilainya semakin kecil, \n",
    "# sementara metrik2 lain biasanya semakin baik kalau nilainya semakin tinggi"
   ]
  },
  {
   "cell_type": "code",
   "execution_count": 17,
   "metadata": {
    "ExecuteTime": {
     "end_time": "2022-01-13T02:50:36.163854Z",
     "start_time": "2022-01-13T02:50:36.013890Z"
    }
   },
   "outputs": [],
   "source": [
    "models=[tree,linreg,knn]\n",
    "mean_score=[]\n",
    "std_score=[]\n",
    "\n",
    "for i in models:\n",
    "    model_cv=cross_val_score(i, x_train,y_train, scoring='neg_mean_squared_error')\n",
    "    mean_score.append(model_cv.mean())\n",
    "    std_score.append(model_cv.std())"
   ]
  },
  {
   "cell_type": "code",
   "execution_count": 18,
   "metadata": {
    "ExecuteTime": {
     "end_time": "2022-01-13T02:50:36.821839Z",
     "start_time": "2022-01-13T02:50:36.806441Z"
    }
   },
   "outputs": [
    {
     "data": {
      "text/html": [
       "<div>\n",
       "<style scoped>\n",
       "    .dataframe tbody tr th:only-of-type {\n",
       "        vertical-align: middle;\n",
       "    }\n",
       "\n",
       "    .dataframe tbody tr th {\n",
       "        vertical-align: top;\n",
       "    }\n",
       "\n",
       "    .dataframe thead th {\n",
       "        text-align: right;\n",
       "    }\n",
       "</style>\n",
       "<table border=\"1\" class=\"dataframe\">\n",
       "  <thead>\n",
       "    <tr style=\"text-align: right;\">\n",
       "      <th></th>\n",
       "      <th>model</th>\n",
       "      <th>mean</th>\n",
       "      <th>std</th>\n",
       "    </tr>\n",
       "  </thead>\n",
       "  <tbody>\n",
       "    <tr>\n",
       "      <th>0</th>\n",
       "      <td>tree</td>\n",
       "      <td>-1.292556</td>\n",
       "      <td>0.267949</td>\n",
       "    </tr>\n",
       "    <tr>\n",
       "      <th>1</th>\n",
       "      <td>linreg</td>\n",
       "      <td>-1.132021</td>\n",
       "      <td>0.339332</td>\n",
       "    </tr>\n",
       "    <tr>\n",
       "      <th>2</th>\n",
       "      <td>knn</td>\n",
       "      <td>-1.241377</td>\n",
       "      <td>0.257382</td>\n",
       "    </tr>\n",
       "  </tbody>\n",
       "</table>\n",
       "</div>"
      ],
      "text/plain": [
       "    model      mean       std\n",
       "0    tree -1.292556  0.267949\n",
       "1  linreg -1.132021  0.339332\n",
       "2     knn -1.241377  0.257382"
      ]
     },
     "execution_count": 18,
     "metadata": {},
     "output_type": "execute_result"
    }
   ],
   "source": [
    "pd.DataFrame({\n",
    "    'model':['tree','linreg','knn'],\n",
    "    'mean':mean_score,\n",
    "    'std':std_score\n",
    "})"
   ]
  },
  {
   "cell_type": "markdown",
   "metadata": {},
   "source": [
    "Score paling tinggi (error paling rendah) dari hasil cross validassi di atas adalah model linreg, sementara yang paling stabil adalah knn. Seharusnya kita memilih di antara kedua model tersebut, tapi di contoh kasus ini, kita akan mencoba dengan Decision Tree Regressor."
   ]
  },
  {
   "cell_type": "markdown",
   "metadata": {},
   "source": [
    "## Model Performance in Data test"
   ]
  },
  {
   "cell_type": "code",
   "execution_count": 22,
   "metadata": {
    "ExecuteTime": {
     "end_time": "2022-01-13T03:01:34.745077Z",
     "start_time": "2022-01-13T03:01:34.710980Z"
    }
   },
   "outputs": [
    {
     "name": "stdout",
     "output_type": "stream",
     "text": [
      "mse: 1.503256062977797\n"
     ]
    }
   ],
   "source": [
    "tree= DecisionTreeRegressor(criterion='squared_error', max_depth=5)\n",
    "tree.fit(x_train,y_train)\n",
    "y_pred= tree.predict(x_test)\n",
    "print('mse:', mean_squared_error(y_test,y_pred))"
   ]
  },
  {
   "cell_type": "code",
   "execution_count": 23,
   "metadata": {
    "ExecuteTime": {
     "end_time": "2022-01-13T03:02:45.977807Z",
     "start_time": "2022-01-13T03:02:45.769973Z"
    }
   },
   "outputs": [
    {
     "name": "stderr",
     "output_type": "stream",
     "text": [
      "C:\\Users\\brigi\\anaconda3\\lib\\site-packages\\seaborn\\_decorators.py:36: FutureWarning: Pass the following variables as keyword args: x, y. From version 0.12, the only valid positional argument will be `data`, and passing other arguments without an explicit keyword will result in an error or misinterpretation.\n",
      "  warnings.warn(\n"
     ]
    },
    {
     "data": {
      "text/plain": [
       "<matplotlib.axes._subplots.AxesSubplot at 0x1b092863850>"
      ]
     },
     "execution_count": 23,
     "metadata": {},
     "output_type": "execute_result"
    },
    {
     "data": {
      "image/png": "[encoded data removed]",
      "text/plain": [
       "<Figure size 432x288 with 1 Axes>"
      ]
     },
     "metadata": {
      "needs_background": "light"
     },
     "output_type": "display_data"
    }
   ],
   "source": [
    "residual= y_test-y_pred\n",
    "sns.scatterplot(y_pred, residual)"
   ]
  },
  {
   "cell_type": "markdown",
   "metadata": {},
   "source": [
    "# Hyperparameter Tunning: Randomized Search"
   ]
  },
  {
   "cell_type": "code",
   "execution_count": 24,
   "metadata": {
    "ExecuteTime": {
     "end_time": "2022-01-13T03:08:28.740377Z",
     "start_time": "2022-01-13T03:08:28.729229Z"
    }
   },
   "outputs": [],
   "source": [
    "from sklearn.model_selection import RandomizedSearchCV"
   ]
  },
  {
   "cell_type": "code",
   "execution_count": 29,
   "metadata": {
    "ExecuteTime": {
     "end_time": "2022-01-13T03:13:56.830773Z",
     "start_time": "2022-01-13T03:13:56.822795Z"
    }
   },
   "outputs": [],
   "source": [
    "hyperparam_space={\n",
    "    'min_samples_leaf':[1,5,10,15,20,50], #benchmark 1\n",
    "    'max_depth':[2,3,4,5,6,7], #benchmark 5\n",
    "    'criterion':['squared_error','absolute_error'] #benchmark squared error #versi lama mse dan mae \n",
    "} #total 72 kombinasi"
   ]
  },
  {
   "cell_type": "code",
   "execution_count": 30,
   "metadata": {
    "ExecuteTime": {
     "end_time": "2022-01-13T03:13:57.565080Z",
     "start_time": "2022-01-13T03:13:57.559079Z"
    }
   },
   "outputs": [],
   "source": [
    "tree= DecisionTreeRegressor(criterion='squared_error', max_depth=5, random_state=2020)\n",
    "\n",
    "random_search=RandomizedSearchCV(\n",
    "    tree,\n",
    "    param_distributions=hyperparam_space,\n",
    "    n_iter=20, #berapa kombinasi yang akan dicoba secara acak, dari 72 kombinasi, kita akn mencoba 20 kombinasi secara acak\n",
    "    cv=5, #tanpa skfold, karena tidak perlu distratify\n",
    "    scoring='neg_mean_squared_error',\n",
    "    random_state=2020,\n",
    "    n_jobs=-1\n",
    ")"
   ]
  },
  {
   "cell_type": "code",
   "execution_count": 32,
   "metadata": {
    "ExecuteTime": {
     "end_time": "2022-01-13T03:16:24.507474Z",
     "start_time": "2022-01-13T03:16:24.495030Z"
    }
   },
   "outputs": [
    {
     "data": {
      "text/plain": [
       "{'cv': 5,\n",
       " 'error_score': nan,\n",
       " 'estimator__ccp_alpha': 0.0,\n",
       " 'estimator__criterion': 'squared_error',\n",
       " 'estimator__max_depth': 5,\n",
       " 'estimator__max_features': None,\n",
       " 'estimator__max_leaf_nodes': None,\n",
       " 'estimator__min_impurity_decrease': 0.0,\n",
       " 'estimator__min_samples_leaf': 1,\n",
       " 'estimator__min_samples_split': 2,\n",
       " 'estimator__min_weight_fraction_leaf': 0.0,\n",
       " 'estimator__random_state': 2020,\n",
       " 'estimator__splitter': 'best',\n",
       " 'estimator': DecisionTreeRegressor(max_depth=5, random_state=2020),\n",
       " 'n_iter': 20,\n",
       " 'n_jobs': -1,\n",
       " 'param_distributions': {'min_samples_leaf': [1, 5, 10, 15, 20, 50],\n",
       "  'max_depth': [2, 3, 4, 5, 6, 7],\n",
       "  'criterion': ['squared_error', 'absolute_error']},\n",
       " 'pre_dispatch': '2*n_jobs',\n",
       " 'random_state': 2020,\n",
       " 'refit': True,\n",
       " 'return_train_score': False,\n",
       " 'scoring': 'neg_mean_squared_error',\n",
       " 'verbose': 0}"
      ]
     },
     "execution_count": 32,
     "metadata": {},
     "output_type": "execute_result"
    }
   ],
   "source": [
    "random_search.get_params() #semua paramater yang bisa diatur pada random search"
   ]
  },
  {
   "cell_type": "code",
   "execution_count": 31,
   "metadata": {
    "ExecuteTime": {
     "end_time": "2022-01-13T03:14:01.525323Z",
     "start_time": "2022-01-13T03:13:58.154017Z"
    }
   },
   "outputs": [
    {
     "data": {
      "text/plain": [
       "RandomizedSearchCV(cv=5,\n",
       "                   estimator=DecisionTreeRegressor(max_depth=5,\n",
       "                                                   random_state=2020),\n",
       "                   n_iter=20, n_jobs=-1,\n",
       "                   param_distributions={'criterion': ['squared_error',\n",
       "                                                      'absolute_error'],\n",
       "                                        'max_depth': [2, 3, 4, 5, 6, 7],\n",
       "                                        'min_samples_leaf': [1, 5, 10, 15, 20,\n",
       "                                                             50]},\n",
       "                   random_state=2020, scoring='neg_mean_squared_error')"
      ]
     },
     "execution_count": 31,
     "metadata": {},
     "output_type": "execute_result"
    }
   ],
   "source": [
    "random_search.fit(x_train,y_train)"
   ]
  },
  {
   "cell_type": "code",
   "execution_count": 33,
   "metadata": {
    "ExecuteTime": {
     "end_time": "2022-01-13T03:23:28.267422Z",
     "start_time": "2022-01-13T03:23:28.254572Z"
    }
   },
   "outputs": [
    {
     "name": "stdout",
     "output_type": "stream",
     "text": [
      "best param {'min_samples_leaf': 1, 'max_depth': 4, 'criterion': 'squared_error'}\n",
      "best score -0.9829038972124049\n"
     ]
    }
   ],
   "source": [
    "print('best param', random_search.best_params_)\n",
    "print('best score', random_search.best_score_)"
   ]
  },
  {
   "cell_type": "code",
   "execution_count": 34,
   "metadata": {
    "ExecuteTime": {
     "end_time": "2022-01-13T03:23:50.064867Z",
     "start_time": "2022-01-13T03:23:50.033900Z"
    }
   },
   "outputs": [
    {
     "data": {
      "text/html": [
       "<div>\n",
       "<style scoped>\n",
       "    .dataframe tbody tr th:only-of-type {\n",
       "        vertical-align: middle;\n",
       "    }\n",
       "\n",
       "    .dataframe tbody tr th {\n",
       "        vertical-align: top;\n",
       "    }\n",
       "\n",
       "    .dataframe thead th {\n",
       "        text-align: right;\n",
       "    }\n",
       "</style>\n",
       "<table border=\"1\" class=\"dataframe\">\n",
       "  <thead>\n",
       "    <tr style=\"text-align: right;\">\n",
       "      <th></th>\n",
       "      <th>mean_fit_time</th>\n",
       "      <th>std_fit_time</th>\n",
       "      <th>mean_score_time</th>\n",
       "      <th>std_score_time</th>\n",
       "      <th>param_min_samples_leaf</th>\n",
       "      <th>param_max_depth</th>\n",
       "      <th>param_criterion</th>\n",
       "      <th>params</th>\n",
       "      <th>split0_test_score</th>\n",
       "      <th>split1_test_score</th>\n",
       "      <th>split2_test_score</th>\n",
       "      <th>split3_test_score</th>\n",
       "      <th>split4_test_score</th>\n",
       "      <th>mean_test_score</th>\n",
       "      <th>std_test_score</th>\n",
       "      <th>rank_test_score</th>\n",
       "    </tr>\n",
       "  </thead>\n",
       "  <tbody>\n",
       "    <tr>\n",
       "      <th>0</th>\n",
       "      <td>0.010867</td>\n",
       "      <td>0.007064</td>\n",
       "      <td>0.003569</td>\n",
       "      <td>0.000726</td>\n",
       "      <td>1</td>\n",
       "      <td>2</td>\n",
       "      <td>absolute_error</td>\n",
       "      <td>{'min_samples_leaf': 1, 'max_depth': 2, 'crite...</td>\n",
       "      <td>-0.738330</td>\n",
       "      <td>-0.851707</td>\n",
       "      <td>-1.323954</td>\n",
       "      <td>-1.509013</td>\n",
       "      <td>-1.356648</td>\n",
       "      <td>-1.155931</td>\n",
       "      <td>0.303358</td>\n",
       "      <td>3</td>\n",
       "    </tr>\n",
       "    <tr>\n",
       "      <th>1</th>\n",
       "      <td>0.007638</td>\n",
       "      <td>0.000247</td>\n",
       "      <td>0.003817</td>\n",
       "      <td>0.000280</td>\n",
       "      <td>5</td>\n",
       "      <td>7</td>\n",
       "      <td>squared_error</td>\n",
       "      <td>{'min_samples_leaf': 5, 'max_depth': 7, 'crite...</td>\n",
       "      <td>-1.266981</td>\n",
       "      <td>-0.767827</td>\n",
       "      <td>-1.325200</td>\n",
       "      <td>-2.239966</td>\n",
       "      <td>-1.472244</td>\n",
       "      <td>-1.414444</td>\n",
       "      <td>0.475952</td>\n",
       "      <td>19</td>\n",
       "    </tr>\n",
       "    <tr>\n",
       "      <th>2</th>\n",
       "      <td>0.007300</td>\n",
       "      <td>0.000835</td>\n",
       "      <td>0.003630</td>\n",
       "      <td>0.001093</td>\n",
       "      <td>5</td>\n",
       "      <td>4</td>\n",
       "      <td>squared_error</td>\n",
       "      <td>{'min_samples_leaf': 5, 'max_depth': 4, 'crite...</td>\n",
       "      <td>-1.144108</td>\n",
       "      <td>-0.817462</td>\n",
       "      <td>-1.375826</td>\n",
       "      <td>-2.197390</td>\n",
       "      <td>-1.445703</td>\n",
       "      <td>-1.396098</td>\n",
       "      <td>0.456784</td>\n",
       "      <td>18</td>\n",
       "    </tr>\n",
       "    <tr>\n",
       "      <th>3</th>\n",
       "      <td>0.006121</td>\n",
       "      <td>0.001239</td>\n",
       "      <td>0.002798</td>\n",
       "      <td>0.000403</td>\n",
       "      <td>20</td>\n",
       "      <td>2</td>\n",
       "      <td>absolute_error</td>\n",
       "      <td>{'min_samples_leaf': 20, 'max_depth': 2, 'crit...</td>\n",
       "      <td>-0.722048</td>\n",
       "      <td>-1.093600</td>\n",
       "      <td>-1.182453</td>\n",
       "      <td>-1.955167</td>\n",
       "      <td>-1.356648</td>\n",
       "      <td>-1.261983</td>\n",
       "      <td>0.403899</td>\n",
       "      <td>6</td>\n",
       "    </tr>\n",
       "    <tr>\n",
       "      <th>4</th>\n",
       "      <td>0.008201</td>\n",
       "      <td>0.002870</td>\n",
       "      <td>0.003046</td>\n",
       "      <td>0.000262</td>\n",
       "      <td>5</td>\n",
       "      <td>2</td>\n",
       "      <td>absolute_error</td>\n",
       "      <td>{'min_samples_leaf': 5, 'max_depth': 2, 'crite...</td>\n",
       "      <td>-0.722048</td>\n",
       "      <td>-1.093600</td>\n",
       "      <td>-1.215538</td>\n",
       "      <td>-1.960931</td>\n",
       "      <td>-1.356648</td>\n",
       "      <td>-1.269753</td>\n",
       "      <td>0.404778</td>\n",
       "      <td>8</td>\n",
       "    </tr>\n",
       "    <tr>\n",
       "      <th>5</th>\n",
       "      <td>0.009111</td>\n",
       "      <td>0.005909</td>\n",
       "      <td>0.003380</td>\n",
       "      <td>0.000383</td>\n",
       "      <td>50</td>\n",
       "      <td>7</td>\n",
       "      <td>squared_error</td>\n",
       "      <td>{'min_samples_leaf': 50, 'max_depth': 7, 'crit...</td>\n",
       "      <td>-0.879731</td>\n",
       "      <td>-0.900169</td>\n",
       "      <td>-1.479036</td>\n",
       "      <td>-2.103678</td>\n",
       "      <td>-1.437448</td>\n",
       "      <td>-1.360013</td>\n",
       "      <td>0.450628</td>\n",
       "      <td>12</td>\n",
       "    </tr>\n",
       "    <tr>\n",
       "      <th>6</th>\n",
       "      <td>0.005048</td>\n",
       "      <td>0.000430</td>\n",
       "      <td>0.004154</td>\n",
       "      <td>0.002328</td>\n",
       "      <td>1</td>\n",
       "      <td>4</td>\n",
       "      <td>squared_error</td>\n",
       "      <td>{'min_samples_leaf': 1, 'max_depth': 4, 'crite...</td>\n",
       "      <td>-0.771622</td>\n",
       "      <td>-0.665101</td>\n",
       "      <td>-1.593723</td>\n",
       "      <td>-1.029129</td>\n",
       "      <td>-0.854944</td>\n",
       "      <td>-0.982904</td>\n",
       "      <td>0.327795</td>\n",
       "      <td>1</td>\n",
       "    </tr>\n",
       "    <tr>\n",
       "      <th>7</th>\n",
       "      <td>0.005282</td>\n",
       "      <td>0.000576</td>\n",
       "      <td>0.003178</td>\n",
       "      <td>0.000197</td>\n",
       "      <td>5</td>\n",
       "      <td>3</td>\n",
       "      <td>squared_error</td>\n",
       "      <td>{'min_samples_leaf': 5, 'max_depth': 3, 'crite...</td>\n",
       "      <td>-0.987999</td>\n",
       "      <td>-0.897975</td>\n",
       "      <td>-1.295115</td>\n",
       "      <td>-2.212884</td>\n",
       "      <td>-1.413923</td>\n",
       "      <td>-1.361579</td>\n",
       "      <td>0.466126</td>\n",
       "      <td>14</td>\n",
       "    </tr>\n",
       "    <tr>\n",
       "      <th>8</th>\n",
       "      <td>0.006508</td>\n",
       "      <td>0.000536</td>\n",
       "      <td>0.004138</td>\n",
       "      <td>0.000925</td>\n",
       "      <td>20</td>\n",
       "      <td>4</td>\n",
       "      <td>absolute_error</td>\n",
       "      <td>{'min_samples_leaf': 20, 'max_depth': 4, 'crit...</td>\n",
       "      <td>-0.805774</td>\n",
       "      <td>-1.082392</td>\n",
       "      <td>-1.204603</td>\n",
       "      <td>-1.997315</td>\n",
       "      <td>-1.332621</td>\n",
       "      <td>-1.284541</td>\n",
       "      <td>0.396694</td>\n",
       "      <td>9</td>\n",
       "    </tr>\n",
       "    <tr>\n",
       "      <th>9</th>\n",
       "      <td>0.005704</td>\n",
       "      <td>0.001293</td>\n",
       "      <td>0.003132</td>\n",
       "      <td>0.000728</td>\n",
       "      <td>1</td>\n",
       "      <td>2</td>\n",
       "      <td>squared_error</td>\n",
       "      <td>{'min_samples_leaf': 1, 'max_depth': 2, 'crite...</td>\n",
       "      <td>-0.816130</td>\n",
       "      <td>-0.882642</td>\n",
       "      <td>-1.424336</td>\n",
       "      <td>-1.108872</td>\n",
       "      <td>-0.924132</td>\n",
       "      <td>-1.031222</td>\n",
       "      <td>0.219261</td>\n",
       "      <td>2</td>\n",
       "    </tr>\n",
       "    <tr>\n",
       "      <th>10</th>\n",
       "      <td>0.006251</td>\n",
       "      <td>0.000598</td>\n",
       "      <td>0.003507</td>\n",
       "      <td>0.000866</td>\n",
       "      <td>15</td>\n",
       "      <td>3</td>\n",
       "      <td>absolute_error</td>\n",
       "      <td>{'min_samples_leaf': 15, 'max_depth': 3, 'crit...</td>\n",
       "      <td>-0.743851</td>\n",
       "      <td>-1.105260</td>\n",
       "      <td>-1.122205</td>\n",
       "      <td>-2.280131</td>\n",
       "      <td>-1.254818</td>\n",
       "      <td>-1.301253</td>\n",
       "      <td>0.517982</td>\n",
       "      <td>10</td>\n",
       "    </tr>\n",
       "    <tr>\n",
       "      <th>11</th>\n",
       "      <td>0.005158</td>\n",
       "      <td>0.000315</td>\n",
       "      <td>0.002734</td>\n",
       "      <td>0.000316</td>\n",
       "      <td>15</td>\n",
       "      <td>7</td>\n",
       "      <td>squared_error</td>\n",
       "      <td>{'min_samples_leaf': 15, 'max_depth': 7, 'crit...</td>\n",
       "      <td>-0.956111</td>\n",
       "      <td>-0.844012</td>\n",
       "      <td>-1.587474</td>\n",
       "      <td>-2.276566</td>\n",
       "      <td>-1.281531</td>\n",
       "      <td>-1.389139</td>\n",
       "      <td>0.514416</td>\n",
       "      <td>16</td>\n",
       "    </tr>\n",
       "    <tr>\n",
       "      <th>12</th>\n",
       "      <td>0.005011</td>\n",
       "      <td>0.000392</td>\n",
       "      <td>0.002696</td>\n",
       "      <td>0.000694</td>\n",
       "      <td>20</td>\n",
       "      <td>7</td>\n",
       "      <td>squared_error</td>\n",
       "      <td>{'min_samples_leaf': 20, 'max_depth': 7, 'crit...</td>\n",
       "      <td>-0.870686</td>\n",
       "      <td>-0.765451</td>\n",
       "      <td>-1.294051</td>\n",
       "      <td>-1.731356</td>\n",
       "      <td>-1.297124</td>\n",
       "      <td>-1.191733</td>\n",
       "      <td>0.345704</td>\n",
       "      <td>4</td>\n",
       "    </tr>\n",
       "    <tr>\n",
       "      <th>13</th>\n",
       "      <td>0.004987</td>\n",
       "      <td>0.000698</td>\n",
       "      <td>0.002502</td>\n",
       "      <td>0.000528</td>\n",
       "      <td>10</td>\n",
       "      <td>3</td>\n",
       "      <td>absolute_error</td>\n",
       "      <td>{'min_samples_leaf': 10, 'max_depth': 3, 'crit...</td>\n",
       "      <td>-0.766951</td>\n",
       "      <td>-0.666375</td>\n",
       "      <td>-1.331518</td>\n",
       "      <td>-2.316210</td>\n",
       "      <td>-1.001044</td>\n",
       "      <td>-1.216420</td>\n",
       "      <td>0.595608</td>\n",
       "      <td>5</td>\n",
       "    </tr>\n",
       "    <tr>\n",
       "      <th>14</th>\n",
       "      <td>0.005117</td>\n",
       "      <td>0.000512</td>\n",
       "      <td>0.002484</td>\n",
       "      <td>0.000619</td>\n",
       "      <td>50</td>\n",
       "      <td>5</td>\n",
       "      <td>absolute_error</td>\n",
       "      <td>{'min_samples_leaf': 50, 'max_depth': 5, 'crit...</td>\n",
       "      <td>-0.852846</td>\n",
       "      <td>-0.866010</td>\n",
       "      <td>-1.368379</td>\n",
       "      <td>-2.420846</td>\n",
       "      <td>-1.624323</td>\n",
       "      <td>-1.426481</td>\n",
       "      <td>0.578699</td>\n",
       "      <td>20</td>\n",
       "    </tr>\n",
       "    <tr>\n",
       "      <th>15</th>\n",
       "      <td>0.004055</td>\n",
       "      <td>0.000729</td>\n",
       "      <td>0.002554</td>\n",
       "      <td>0.000628</td>\n",
       "      <td>50</td>\n",
       "      <td>4</td>\n",
       "      <td>squared_error</td>\n",
       "      <td>{'min_samples_leaf': 50, 'max_depth': 4, 'crit...</td>\n",
       "      <td>-0.879731</td>\n",
       "      <td>-0.900169</td>\n",
       "      <td>-1.479036</td>\n",
       "      <td>-2.103678</td>\n",
       "      <td>-1.437448</td>\n",
       "      <td>-1.360013</td>\n",
       "      <td>0.450628</td>\n",
       "      <td>12</td>\n",
       "    </tr>\n",
       "    <tr>\n",
       "      <th>16</th>\n",
       "      <td>0.004424</td>\n",
       "      <td>0.000485</td>\n",
       "      <td>0.002646</td>\n",
       "      <td>0.000365</td>\n",
       "      <td>15</td>\n",
       "      <td>6</td>\n",
       "      <td>squared_error</td>\n",
       "      <td>{'min_samples_leaf': 15, 'max_depth': 6, 'crit...</td>\n",
       "      <td>-0.956111</td>\n",
       "      <td>-0.844012</td>\n",
       "      <td>-1.587474</td>\n",
       "      <td>-2.276566</td>\n",
       "      <td>-1.281531</td>\n",
       "      <td>-1.389139</td>\n",
       "      <td>0.514416</td>\n",
       "      <td>16</td>\n",
       "    </tr>\n",
       "    <tr>\n",
       "      <th>17</th>\n",
       "      <td>0.004686</td>\n",
       "      <td>0.000479</td>\n",
       "      <td>0.003105</td>\n",
       "      <td>0.000113</td>\n",
       "      <td>10</td>\n",
       "      <td>4</td>\n",
       "      <td>squared_error</td>\n",
       "      <td>{'min_samples_leaf': 10, 'max_depth': 4, 'crit...</td>\n",
       "      <td>-1.118471</td>\n",
       "      <td>-0.809894</td>\n",
       "      <td>-1.362064</td>\n",
       "      <td>-2.346144</td>\n",
       "      <td>-1.278401</td>\n",
       "      <td>-1.382995</td>\n",
       "      <td>0.517194</td>\n",
       "      <td>15</td>\n",
       "    </tr>\n",
       "    <tr>\n",
       "      <th>18</th>\n",
       "      <td>0.005970</td>\n",
       "      <td>0.000620</td>\n",
       "      <td>0.002575</td>\n",
       "      <td>0.000379</td>\n",
       "      <td>15</td>\n",
       "      <td>5</td>\n",
       "      <td>absolute_error</td>\n",
       "      <td>{'min_samples_leaf': 15, 'max_depth': 5, 'crit...</td>\n",
       "      <td>-0.743851</td>\n",
       "      <td>-1.115824</td>\n",
       "      <td>-1.122205</td>\n",
       "      <td>-2.312992</td>\n",
       "      <td>-1.286546</td>\n",
       "      <td>-1.316284</td>\n",
       "      <td>0.529120</td>\n",
       "      <td>11</td>\n",
       "    </tr>\n",
       "    <tr>\n",
       "      <th>19</th>\n",
       "      <td>0.005022</td>\n",
       "      <td>0.000936</td>\n",
       "      <td>0.002188</td>\n",
       "      <td>0.000699</td>\n",
       "      <td>15</td>\n",
       "      <td>2</td>\n",
       "      <td>absolute_error</td>\n",
       "      <td>{'min_samples_leaf': 15, 'max_depth': 2, 'crit...</td>\n",
       "      <td>-0.722048</td>\n",
       "      <td>-1.093600</td>\n",
       "      <td>-1.208277</td>\n",
       "      <td>-1.955167</td>\n",
       "      <td>-1.356648</td>\n",
       "      <td>-1.267148</td>\n",
       "      <td>0.403013</td>\n",
       "      <td>7</td>\n",
       "    </tr>\n",
       "  </tbody>\n",
       "</table>\n",
       "</div>"
      ],
      "text/plain": [
       "    mean_fit_time  std_fit_time  mean_score_time  std_score_time  \\\n",
       "0        0.010867      0.007064         0.003569        0.000726   \n",
       "1        0.007638      0.000247         0.003817        0.000280   \n",
       "2        0.007300      0.000835         0.003630        0.001093   \n",
       "3        0.006121      0.001239         0.002798        0.000403   \n",
       "4        0.008201      0.002870         0.003046        0.000262   \n",
       "5        0.009111      0.005909         0.003380        0.000383   \n",
       "6        0.005048      0.000430         0.004154        0.002328   \n",
       "7        0.005282      0.000576         0.003178        0.000197   \n",
       "8        0.006508      0.000536         0.004138        0.000925   \n",
       "9        0.005704      0.001293         0.003132        0.000728   \n",
       "10       0.006251      0.000598         0.003507        0.000866   \n",
       "11       0.005158      0.000315         0.002734        0.000316   \n",
       "12       0.005011      0.000392         0.002696        0.000694   \n",
       "13       0.004987      0.000698         0.002502        0.000528   \n",
       "14       0.005117      0.000512         0.002484        0.000619   \n",
       "15       0.004055      0.000729         0.002554        0.000628   \n",
       "16       0.004424      0.000485         0.002646        0.000365   \n",
       "17       0.004686      0.000479         0.003105        0.000113   \n",
       "18       0.005970      0.000620         0.002575        0.000379   \n",
       "19       0.005022      0.000936         0.002188        0.000699   \n",
       "\n",
       "   param_min_samples_leaf param_max_depth param_criterion  \\\n",
       "0                       1               2  absolute_error   \n",
       "1                       5               7   squared_error   \n",
       "2                       5               4   squared_error   \n",
       "3                      20               2  absolute_error   \n",
       "4                       5               2  absolute_error   \n",
       "5                      50               7   squared_error   \n",
       "6                       1               4   squared_error   \n",
       "7                       5               3   squared_error   \n",
       "8                      20               4  absolute_error   \n",
       "9                       1               2   squared_error   \n",
       "10                     15               3  absolute_error   \n",
       "11                     15               7   squared_error   \n",
       "12                     20               7   squared_error   \n",
       "13                     10               3  absolute_error   \n",
       "14                     50               5  absolute_error   \n",
       "15                     50               4   squared_error   \n",
       "16                     15               6   squared_error   \n",
       "17                     10               4   squared_error   \n",
       "18                     15               5  absolute_error   \n",
       "19                     15               2  absolute_error   \n",
       "\n",
       "                                               params  split0_test_score  \\\n",
       "0   {'min_samples_leaf': 1, 'max_depth': 2, 'crite...          -0.738330   \n",
       "1   {'min_samples_leaf': 5, 'max_depth': 7, 'crite...          -1.266981   \n",
       "2   {'min_samples_leaf': 5, 'max_depth': 4, 'crite...          -1.144108   \n",
       "3   {'min_samples_leaf': 20, 'max_depth': 2, 'crit...          -0.722048   \n",
       "4   {'min_samples_leaf': 5, 'max_depth': 2, 'crite...          -0.722048   \n",
       "5   {'min_samples_leaf': 50, 'max_depth': 7, 'crit...          -0.879731   \n",
       "6   {'min_samples_leaf': 1, 'max_depth': 4, 'crite...          -0.771622   \n",
       "7   {'min_samples_leaf': 5, 'max_depth': 3, 'crite...          -0.987999   \n",
       "8   {'min_samples_leaf': 20, 'max_depth': 4, 'crit...          -0.805774   \n",
       "9   {'min_samples_leaf': 1, 'max_depth': 2, 'crite...          -0.816130   \n",
       "10  {'min_samples_leaf': 15, 'max_depth': 3, 'crit...          -0.743851   \n",
       "11  {'min_samples_leaf': 15, 'max_depth': 7, 'crit...          -0.956111   \n",
       "12  {'min_samples_leaf': 20, 'max_depth': 7, 'crit...          -0.870686   \n",
       "13  {'min_samples_leaf': 10, 'max_depth': 3, 'crit...          -0.766951   \n",
       "14  {'min_samples_leaf': 50, 'max_depth': 5, 'crit...          -0.852846   \n",
       "15  {'min_samples_leaf': 50, 'max_depth': 4, 'crit...          -0.879731   \n",
       "16  {'min_samples_leaf': 15, 'max_depth': 6, 'crit...          -0.956111   \n",
       "17  {'min_samples_leaf': 10, 'max_depth': 4, 'crit...          -1.118471   \n",
       "18  {'min_samples_leaf': 15, 'max_depth': 5, 'crit...          -0.743851   \n",
       "19  {'min_samples_leaf': 15, 'max_depth': 2, 'crit...          -0.722048   \n",
       "\n",
       "    split1_test_score  split2_test_score  split3_test_score  \\\n",
       "0           -0.851707          -1.323954          -1.509013   \n",
       "1           -0.767827          -1.325200          -2.239966   \n",
       "2           -0.817462          -1.375826          -2.197390   \n",
       "3           -1.093600          -1.182453          -1.955167   \n",
       "4           -1.093600          -1.215538          -1.960931   \n",
       "5           -0.900169          -1.479036          -2.103678   \n",
       "6           -0.665101          -1.593723          -1.029129   \n",
       "7           -0.897975          -1.295115          -2.212884   \n",
       "8           -1.082392          -1.204603          -1.997315   \n",
       "9           -0.882642          -1.424336          -1.108872   \n",
       "10          -1.105260          -1.122205          -2.280131   \n",
       "11          -0.844012          -1.587474          -2.276566   \n",
       "12          -0.765451          -1.294051          -1.731356   \n",
       "13          -0.666375          -1.331518          -2.316210   \n",
       "14          -0.866010          -1.368379          -2.420846   \n",
       "15          -0.900169          -1.479036          -2.103678   \n",
       "16          -0.844012          -1.587474          -2.276566   \n",
       "17          -0.809894          -1.362064          -2.346144   \n",
       "18          -1.115824          -1.122205          -2.312992   \n",
       "19          -1.093600          -1.208277          -1.955167   \n",
       "\n",
       "    split4_test_score  mean_test_score  std_test_score  rank_test_score  \n",
       "0           -1.356648        -1.155931        0.303358                3  \n",
       "1           -1.472244        -1.414444        0.475952               19  \n",
       "2           -1.445703        -1.396098        0.456784               18  \n",
       "3           -1.356648        -1.261983        0.403899                6  \n",
       "4           -1.356648        -1.269753        0.404778                8  \n",
       "5           -1.437448        -1.360013        0.450628               12  \n",
       "6           -0.854944        -0.982904        0.327795                1  \n",
       "7           -1.413923        -1.361579        0.466126               14  \n",
       "8           -1.332621        -1.284541        0.396694                9  \n",
       "9           -0.924132        -1.031222        0.219261                2  \n",
       "10          -1.254818        -1.301253        0.517982               10  \n",
       "11          -1.281531        -1.389139        0.514416               16  \n",
       "12          -1.297124        -1.191733        0.345704                4  \n",
       "13          -1.001044        -1.216420        0.595608                5  \n",
       "14          -1.624323        -1.426481        0.578699               20  \n",
       "15          -1.437448        -1.360013        0.450628               12  \n",
       "16          -1.281531        -1.389139        0.514416               16  \n",
       "17          -1.278401        -1.382995        0.517194               15  \n",
       "18          -1.286546        -1.316284        0.529120               11  \n",
       "19          -1.356648        -1.267148        0.403013                7  "
      ]
     },
     "execution_count": 34,
     "metadata": {},
     "output_type": "execute_result"
    }
   ],
   "source": [
    "pd.DataFrame(random_search.cv_results_)"
   ]
  },
  {
   "cell_type": "markdown",
   "metadata": {},
   "source": [
    "## Before vs After Tunning"
   ]
  },
  {
   "cell_type": "code",
   "execution_count": 39,
   "metadata": {
    "ExecuteTime": {
     "end_time": "2022-01-13T03:33:13.689061Z",
     "start_time": "2022-01-13T03:33:13.667986Z"
    }
   },
   "outputs": [
    {
     "name": "stdout",
     "output_type": "stream",
     "text": [
      "mse: 1.4671679252226948\n"
     ]
    }
   ],
   "source": [
    "#before\n",
    "tree=DecisionTreeRegressor(criterion='squared_error',max_depth=5, random_state=2020)\n",
    "tree.fit(x_train,y_train)\n",
    "y_pred= tree.predict(x_test)\n",
    "print('mse:', mean_squared_error(y_test,y_pred))"
   ]
  },
  {
   "cell_type": "code",
   "execution_count": 36,
   "metadata": {
    "ExecuteTime": {
     "end_time": "2022-01-13T03:32:51.696927Z",
     "start_time": "2022-01-13T03:32:51.686436Z"
    }
   },
   "outputs": [
    {
     "name": "stdout",
     "output_type": "stream",
     "text": [
      "mse: 1.3093536770005814\n"
     ]
    }
   ],
   "source": [
    "#after\n",
    "tree=random_search.best_estimator_\n",
    "y_pred= tree.predict(x_test)\n",
    "print('mse:', mean_squared_error(y_test,y_pred))"
   ]
  },
  {
   "cell_type": "markdown",
   "metadata": {},
   "source": [
    "Hasil tunning tidak meningkatkan performa model secara signifikan, karena model awal memiliki performa yang kurang stabil"
   ]
  },
  {
   "cell_type": "code",
   "execution_count": null,
   "metadata": {},
   "outputs": [],
   "source": []
  }
 ],
 "metadata": {
  "hide_input": false,
  "kernelspec": {
   "display_name": "Python 3",
   "language": "python",
   "name": "python3"
  },
  "language_info": {
   "codemirror_mode": {
    "name": "ipython",
    "version": 3
   },
   "file_extension": ".py",
   "mimetype": "text/x-python",
   "name": "python",
   "nbconvert_exporter": "python",
   "pygments_lexer": "ipython3",
   "version": "3.8.3"
  },
  "toc": {
   "base_numbering": 1,
   "nav_menu": {},
   "number_sections": true,
   "sideBar": true,
   "skip_h1_title": false,
   "title_cell": "Table of Contents",
   "title_sidebar": "Contents",
   "toc_cell": false,
   "toc_position": {},
   "toc_section_display": true,
   "toc_window_display": false
  }
 },
 "nbformat": 4,
 "nbformat_minor": 4
}
