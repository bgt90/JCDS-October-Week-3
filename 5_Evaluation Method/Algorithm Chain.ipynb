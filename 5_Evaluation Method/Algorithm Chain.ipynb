{
 "cells": [
  {
   "cell_type": "markdown",
   "metadata": {},
   "source": [
    "# Information Leakage\n",
    "Information leakage dapat menyebabkan hasil pengukuran performa pada validation set atau test set menjadi bias. Hasil pengukuran performa menjadi tidak sebaik kenyataan.\n"
   ]
  },
  {
   "cell_type": "code",
   "execution_count": 1,
   "metadata": {
    "ExecuteTime": {
     "end_time": "2022-01-18T01:35:22.051856Z",
     "start_time": "2022-01-18T01:35:20.335760Z"
    }
   },
   "outputs": [],
   "source": [
    "import numpy as np\n",
    "import pandas as pd\n",
    "from sklearn.model_selection import cross_val_score\n",
    "from sklearn.linear_model import Ridge"
   ]
  },
  {
   "cell_type": "code",
   "execution_count": 2,
   "metadata": {
    "ExecuteTime": {
     "end_time": "2022-01-18T01:35:22.098795Z",
     "start_time": "2022-01-18T01:35:22.052832Z"
    }
   },
   "outputs": [],
   "source": [
    "#data dummy yg dirandomize\n",
    "rnd= np.random.RandomState(seed=2020)\n",
    "x= rnd.normal(size=(100,10000))\n",
    "y=rnd.normal(size=(100,))"
   ]
  },
  {
   "cell_type": "markdown",
   "metadata": {},
   "source": [
    "Seharusnya x dan y tidak memiliki hubungan karena dibuat secara random"
   ]
  },
  {
   "cell_type": "markdown",
   "metadata": {},
   "source": [
    "![image.png](data:image/png;base64,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)"
   ]
  },
  {
   "cell_type": "code",
   "execution_count": 3,
   "metadata": {
    "ExecuteTime": {
     "end_time": "2022-01-18T01:35:22.113755Z",
     "start_time": "2022-01-18T01:35:22.100790Z"
    }
   },
   "outputs": [],
   "source": [
    "## cara preprocessing yang salah"
   ]
  },
  {
   "cell_type": "code",
   "execution_count": 4,
   "metadata": {
    "ExecuteTime": {
     "end_time": "2022-01-18T01:35:22.193542Z",
     "start_time": "2022-01-18T01:35:22.115750Z"
    }
   },
   "outputs": [],
   "source": [
    "from sklearn.feature_selection import SelectPercentile, f_regression"
   ]
  },
  {
   "cell_type": "code",
   "execution_count": 5,
   "metadata": {
    "ExecuteTime": {
     "end_time": "2022-01-18T01:35:22.223474Z",
     "start_time": "2022-01-18T01:35:22.194539Z"
    }
   },
   "outputs": [
    {
     "data": {
      "text/plain": [
       "(100, 500)"
      ]
     },
     "execution_count": 5,
     "metadata": {},
     "output_type": "execute_result"
    }
   ],
   "source": [
    "select= SelectPercentile(score_func=f_regression, percentile= 5).fit(x,y)\n",
    "x_selected=select.transform(x)\n",
    "x_selected.shape"
   ]
  },
  {
   "cell_type": "code",
   "execution_count": 6,
   "metadata": {
    "ExecuteTime": {
     "end_time": "2022-01-18T01:35:22.255377Z",
     "start_time": "2022-01-18T01:35:22.227455Z"
    }
   },
   "outputs": [
    {
     "data": {
      "text/html": [
       "<div>\n",
       "<style scoped>\n",
       "    .dataframe tbody tr th:only-of-type {\n",
       "        vertical-align: middle;\n",
       "    }\n",
       "\n",
       "    .dataframe tbody tr th {\n",
       "        vertical-align: top;\n",
       "    }\n",
       "\n",
       "    .dataframe thead th {\n",
       "        text-align: right;\n",
       "    }\n",
       "</style>\n",
       "<table border=\"1\" class=\"dataframe\">\n",
       "  <thead>\n",
       "    <tr style=\"text-align: right;\">\n",
       "      <th></th>\n",
       "      <th>1</th>\n",
       "      <th>2</th>\n",
       "      <th>3</th>\n",
       "      <th>4</th>\n",
       "      <th>5</th>\n",
       "      <th>y</th>\n",
       "    </tr>\n",
       "  </thead>\n",
       "  <tbody>\n",
       "    <tr>\n",
       "      <th>1</th>\n",
       "      <td>1.000000</td>\n",
       "      <td>0.142196</td>\n",
       "      <td>-0.245227</td>\n",
       "      <td>-0.109790</td>\n",
       "      <td>-0.007893</td>\n",
       "      <td>0.206695</td>\n",
       "    </tr>\n",
       "    <tr>\n",
       "      <th>2</th>\n",
       "      <td>0.142196</td>\n",
       "      <td>1.000000</td>\n",
       "      <td>-0.054322</td>\n",
       "      <td>-0.004183</td>\n",
       "      <td>-0.024308</td>\n",
       "      <td>0.276550</td>\n",
       "    </tr>\n",
       "    <tr>\n",
       "      <th>3</th>\n",
       "      <td>-0.245227</td>\n",
       "      <td>-0.054322</td>\n",
       "      <td>1.000000</td>\n",
       "      <td>-0.183848</td>\n",
       "      <td>0.138955</td>\n",
       "      <td>-0.211394</td>\n",
       "    </tr>\n",
       "    <tr>\n",
       "      <th>4</th>\n",
       "      <td>-0.109790</td>\n",
       "      <td>-0.004183</td>\n",
       "      <td>-0.183848</td>\n",
       "      <td>1.000000</td>\n",
       "      <td>0.110494</td>\n",
       "      <td>-0.227189</td>\n",
       "    </tr>\n",
       "    <tr>\n",
       "      <th>5</th>\n",
       "      <td>-0.007893</td>\n",
       "      <td>-0.024308</td>\n",
       "      <td>0.138955</td>\n",
       "      <td>0.110494</td>\n",
       "      <td>1.000000</td>\n",
       "      <td>-0.241444</td>\n",
       "    </tr>\n",
       "    <tr>\n",
       "      <th>y</th>\n",
       "      <td>0.206695</td>\n",
       "      <td>0.276550</td>\n",
       "      <td>-0.211394</td>\n",
       "      <td>-0.227189</td>\n",
       "      <td>-0.241444</td>\n",
       "      <td>1.000000</td>\n",
       "    </tr>\n",
       "  </tbody>\n",
       "</table>\n",
       "</div>"
      ],
      "text/plain": [
       "          1         2         3         4         5         y\n",
       "1  1.000000  0.142196 -0.245227 -0.109790 -0.007893  0.206695\n",
       "2  0.142196  1.000000 -0.054322 -0.004183 -0.024308  0.276550\n",
       "3 -0.245227 -0.054322  1.000000 -0.183848  0.138955 -0.211394\n",
       "4 -0.109790 -0.004183 -0.183848  1.000000  0.110494 -0.227189\n",
       "5 -0.007893 -0.024308  0.138955  0.110494  1.000000 -0.241444\n",
       "y  0.206695  0.276550 -0.211394 -0.227189 -0.241444  1.000000"
      ]
     },
     "execution_count": 6,
     "metadata": {},
     "output_type": "execute_result"
    }
   ],
   "source": [
    "pd.DataFrame({\n",
    "    '1':x_selected[:,0],\n",
    "    '2':x_selected[:,1],\n",
    "    '3':x_selected[:,2],\n",
    "    '4':x_selected[:,3],\n",
    "    '5':x_selected[:,4],\n",
    "    'y':y\n",
    "}).corr() #korelasi rendah antara x dan y"
   ]
  },
  {
   "cell_type": "code",
   "execution_count": 7,
   "metadata": {
    "ExecuteTime": {
     "end_time": "2022-01-18T01:35:22.301984Z",
     "start_time": "2022-01-18T01:35:22.258374Z"
    }
   },
   "outputs": [
    {
     "data": {
      "text/plain": [
       "array([0.92165345, 0.89445668, 0.92827414, 0.93088559, 0.91044624])"
      ]
     },
     "execution_count": 7,
     "metadata": {},
     "output_type": "execute_result"
    }
   ],
   "source": [
    "cross_val_score(Ridge(),x_selected,y,cv=5)"
   ]
  },
  {
   "cell_type": "markdown",
   "metadata": {},
   "source": [
    "hasil cross validasi mengindikasikan model dengan perdiksi sangat baik, walaupun data yang dipakai acak dan seharusnya tidak ada hubungan antara x dan y. Ini disebabkan oleh information leakage karena proses preprosessing yang kurang tepat."
   ]
  },
  {
   "cell_type": "code",
   "execution_count": 8,
   "metadata": {
    "ExecuteTime": {
     "end_time": "2022-01-18T01:35:22.316944Z",
     "start_time": "2022-01-18T01:35:22.303979Z"
    }
   },
   "outputs": [],
   "source": [
    "# preprocessing dengan pipeline"
   ]
  },
  {
   "cell_type": "markdown",
   "metadata": {},
   "source": [
    "![image.png](data:image/png;base64,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)"
   ]
  },
  {
   "cell_type": "code",
   "execution_count": 9,
   "metadata": {
    "ExecuteTime": {
     "end_time": "2022-01-18T01:35:22.332255Z",
     "start_time": "2022-01-18T01:35:22.317911Z"
    }
   },
   "outputs": [],
   "source": [
    "from sklearn.pipeline import Pipeline"
   ]
  },
  {
   "cell_type": "code",
   "execution_count": 10,
   "metadata": {
    "ExecuteTime": {
     "end_time": "2022-01-18T01:35:22.347982Z",
     "start_time": "2022-01-18T01:35:22.333258Z"
    }
   },
   "outputs": [],
   "source": [
    "select= SelectPercentile(score_func=f_regression, percentile=5)\n",
    "\n",
    "pipe=Pipeline([\n",
    "    ('select',select),\n",
    "    ('ridge',Ridge())\n",
    "])"
   ]
  },
  {
   "cell_type": "code",
   "execution_count": 11,
   "metadata": {
    "ExecuteTime": {
     "end_time": "2022-01-18T01:35:22.442031Z",
     "start_time": "2022-01-18T01:35:22.348919Z"
    }
   },
   "outputs": [
    {
     "data": {
      "text/plain": [
       "array([-0.0330359 , -0.07840338, -0.06731106, -0.04544685, -0.07314928])"
      ]
     },
     "execution_count": 11,
     "metadata": {},
     "output_type": "execute_result"
    }
   ],
   "source": [
    "cross_val_score(pipe,x,y,cv=5)"
   ]
  },
  {
   "cell_type": "markdown",
   "metadata": {},
   "source": [
    "ini adalah nilai r-squared yang seharusnya kita dapatkan, sangat rendah, bahkan negatif."
   ]
  },
  {
   "cell_type": "markdown",
   "metadata": {},
   "source": [
    "# Algorithm Chain: Adult Dataset"
   ]
  },
  {
   "cell_type": "code",
   "execution_count": 12,
   "metadata": {
    "ExecuteTime": {
     "end_time": "2022-01-18T01:35:22.662191Z",
     "start_time": "2022-01-18T01:35:22.442997Z"
    }
   },
   "outputs": [],
   "source": [
    "from sklearn.tree import DecisionTreeClassifier\n",
    "from sklearn.linear_model import LogisticRegression\n",
    "\n",
    "from sklearn.model_selection import GridSearchCV, StratifiedKFold, train_test_split\n",
    "from sklearn.metrics import classification_report\n",
    "\n",
    "from sklearn.impute import SimpleImputer\n",
    "from sklearn.preprocessing import OneHotEncoder\n",
    "from sklearn.compose import ColumnTransformer\n",
    "import category_encoders as ce\n",
    "from sklearn.pipeline import Pipeline"
   ]
  },
  {
   "cell_type": "markdown",
   "metadata": {},
   "source": [
    "# Data"
   ]
  },
  {
   "cell_type": "code",
   "execution_count": 13,
   "metadata": {
    "ExecuteTime": {
     "end_time": "2022-01-18T01:35:22.741989Z",
     "start_time": "2022-01-18T01:35:22.663155Z"
    }
   },
   "outputs": [
    {
     "data": {
      "text/html": [
       "<div>\n",
       "<style scoped>\n",
       "    .dataframe tbody tr th:only-of-type {\n",
       "        vertical-align: middle;\n",
       "    }\n",
       "\n",
       "    .dataframe tbody tr th {\n",
       "        vertical-align: top;\n",
       "    }\n",
       "\n",
       "    .dataframe thead th {\n",
       "        text-align: right;\n",
       "    }\n",
       "</style>\n",
       "<table border=\"1\" class=\"dataframe\">\n",
       "  <thead>\n",
       "    <tr style=\"text-align: right;\">\n",
       "      <th></th>\n",
       "      <th>age</th>\n",
       "      <th>workclass</th>\n",
       "      <th>fnlwgt</th>\n",
       "      <th>education</th>\n",
       "      <th>education.num</th>\n",
       "      <th>marital.status</th>\n",
       "      <th>occupation</th>\n",
       "      <th>relationship</th>\n",
       "      <th>race</th>\n",
       "      <th>sex</th>\n",
       "      <th>capital.gain</th>\n",
       "      <th>capital.loss</th>\n",
       "      <th>hours.per.week</th>\n",
       "      <th>native.country</th>\n",
       "      <th>income</th>\n",
       "    </tr>\n",
       "  </thead>\n",
       "  <tbody>\n",
       "    <tr>\n",
       "      <th>0</th>\n",
       "      <td>90</td>\n",
       "      <td>?</td>\n",
       "      <td>77053</td>\n",
       "      <td>HS-grad</td>\n",
       "      <td>9</td>\n",
       "      <td>Widowed</td>\n",
       "      <td>?</td>\n",
       "      <td>Not-in-family</td>\n",
       "      <td>White</td>\n",
       "      <td>Female</td>\n",
       "      <td>0</td>\n",
       "      <td>4356</td>\n",
       "      <td>40</td>\n",
       "      <td>United-States</td>\n",
       "      <td>&lt;=50K</td>\n",
       "    </tr>\n",
       "    <tr>\n",
       "      <th>1</th>\n",
       "      <td>82</td>\n",
       "      <td>Private</td>\n",
       "      <td>132870</td>\n",
       "      <td>HS-grad</td>\n",
       "      <td>9</td>\n",
       "      <td>Widowed</td>\n",
       "      <td>Exec-managerial</td>\n",
       "      <td>Not-in-family</td>\n",
       "      <td>White</td>\n",
       "      <td>Female</td>\n",
       "      <td>0</td>\n",
       "      <td>4356</td>\n",
       "      <td>18</td>\n",
       "      <td>United-States</td>\n",
       "      <td>&lt;=50K</td>\n",
       "    </tr>\n",
       "    <tr>\n",
       "      <th>2</th>\n",
       "      <td>66</td>\n",
       "      <td>?</td>\n",
       "      <td>186061</td>\n",
       "      <td>Some-college</td>\n",
       "      <td>10</td>\n",
       "      <td>Widowed</td>\n",
       "      <td>?</td>\n",
       "      <td>Unmarried</td>\n",
       "      <td>Black</td>\n",
       "      <td>Female</td>\n",
       "      <td>0</td>\n",
       "      <td>4356</td>\n",
       "      <td>40</td>\n",
       "      <td>United-States</td>\n",
       "      <td>&lt;=50K</td>\n",
       "    </tr>\n",
       "    <tr>\n",
       "      <th>3</th>\n",
       "      <td>54</td>\n",
       "      <td>Private</td>\n",
       "      <td>140359</td>\n",
       "      <td>7th-8th</td>\n",
       "      <td>4</td>\n",
       "      <td>Divorced</td>\n",
       "      <td>Machine-op-inspct</td>\n",
       "      <td>Unmarried</td>\n",
       "      <td>White</td>\n",
       "      <td>Female</td>\n",
       "      <td>0</td>\n",
       "      <td>3900</td>\n",
       "      <td>40</td>\n",
       "      <td>United-States</td>\n",
       "      <td>&lt;=50K</td>\n",
       "    </tr>\n",
       "    <tr>\n",
       "      <th>4</th>\n",
       "      <td>41</td>\n",
       "      <td>Private</td>\n",
       "      <td>264663</td>\n",
       "      <td>Some-college</td>\n",
       "      <td>10</td>\n",
       "      <td>Separated</td>\n",
       "      <td>Prof-specialty</td>\n",
       "      <td>Own-child</td>\n",
       "      <td>White</td>\n",
       "      <td>Female</td>\n",
       "      <td>0</td>\n",
       "      <td>3900</td>\n",
       "      <td>40</td>\n",
       "      <td>United-States</td>\n",
       "      <td>&lt;=50K</td>\n",
       "    </tr>\n",
       "  </tbody>\n",
       "</table>\n",
       "</div>"
      ],
      "text/plain": [
       "   age workclass  fnlwgt     education  education.num marital.status  \\\n",
       "0   90         ?   77053       HS-grad              9        Widowed   \n",
       "1   82   Private  132870       HS-grad              9        Widowed   \n",
       "2   66         ?  186061  Some-college             10        Widowed   \n",
       "3   54   Private  140359       7th-8th              4       Divorced   \n",
       "4   41   Private  264663  Some-college             10      Separated   \n",
       "\n",
       "          occupation   relationship   race     sex  capital.gain  \\\n",
       "0                  ?  Not-in-family  White  Female             0   \n",
       "1    Exec-managerial  Not-in-family  White  Female             0   \n",
       "2                  ?      Unmarried  Black  Female             0   \n",
       "3  Machine-op-inspct      Unmarried  White  Female             0   \n",
       "4     Prof-specialty      Own-child  White  Female             0   \n",
       "\n",
       "   capital.loss  hours.per.week native.country income  \n",
       "0          4356              40  United-States  <=50K  \n",
       "1          4356              18  United-States  <=50K  \n",
       "2          4356              40  United-States  <=50K  \n",
       "3          3900              40  United-States  <=50K  \n",
       "4          3900              40  United-States  <=50K  "
      ]
     },
     "execution_count": 13,
     "metadata": {},
     "output_type": "execute_result"
    }
   ],
   "source": [
    "df=pd.read_csv('adult.csv')\n",
    "df.head()"
   ]
  },
  {
   "cell_type": "code",
   "execution_count": 14,
   "metadata": {
    "ExecuteTime": {
     "end_time": "2022-01-18T01:35:22.771898Z",
     "start_time": "2022-01-18T01:35:22.742943Z"
    }
   },
   "outputs": [
    {
     "data": {
      "text/plain": [
       "age                  0\n",
       "workclass         1836\n",
       "fnlwgt               0\n",
       "education            0\n",
       "education.num        0\n",
       "marital.status       0\n",
       "occupation        1843\n",
       "relationship         0\n",
       "race                 0\n",
       "sex                  0\n",
       "capital.gain         0\n",
       "capital.loss         0\n",
       "hours.per.week       0\n",
       "native.country     583\n",
       "income               0\n",
       "dtype: int64"
      ]
     },
     "execution_count": 14,
     "metadata": {},
     "output_type": "execute_result"
    }
   ],
   "source": [
    "df.replace('?',np.nan).isna().sum()\n",
    "#missing value pada kolom workclass, occupation, native.country"
   ]
  },
  {
   "cell_type": "markdown",
   "metadata": {
    "ExecuteTime": {
     "end_time": "2022-01-13T04:13:17.307854Z",
     "start_time": "2022-01-13T04:13:17.303209Z"
    }
   },
   "source": [
    "## Preprocessing\n",
    "y= income  \n",
    "x= drop fnlwgt  \n",
    "\n",
    "skema=  \n",
    "* one hot: relationship, race, sex  \n",
    "* simple imputer (constan),binary: workclass, marital.status, occupation, native.country\n",
    "* ordinal: education (sudah dibuat)"
   ]
  },
  {
   "cell_type": "code",
   "execution_count": 15,
   "metadata": {
    "ExecuteTime": {
     "end_time": "2022-01-18T01:35:22.787856Z",
     "start_time": "2022-01-18T01:35:22.772862Z"
    }
   },
   "outputs": [],
   "source": [
    "binary_pipe=Pipeline([\n",
    "    ('imputer', SimpleImputer(strategy='constant',fill_value='NC',missing_values='?')),\n",
    "    ('binary', ce.BinaryEncoder(drop_invariant=True))\n",
    "])"
   ]
  },
  {
   "cell_type": "code",
   "execution_count": 16,
   "metadata": {
    "ExecuteTime": {
     "end_time": "2022-01-18T01:35:22.803817Z",
     "start_time": "2022-01-18T01:35:22.789820Z"
    }
   },
   "outputs": [],
   "source": [
    "transformer=ColumnTransformer([\n",
    "    ('onehot',OneHotEncoder(drop='first'),['relationship','race','sex']),\n",
    "    ('binary', binary_pipe,['workclass','marital.status','occupation','native.country'])\n",
    "], remainder='passthrough')"
   ]
  },
  {
   "cell_type": "code",
   "execution_count": 17,
   "metadata": {
    "ExecuteTime": {
     "end_time": "2022-01-18T01:35:22.991207Z",
     "start_time": "2022-01-18T01:35:22.804777Z"
    }
   },
   "outputs": [
    {
     "data": {
      "text/plain": [
       "array([[1.0, 0.0, 0.0, ..., 4356, 40, '<=50K'],\n",
       "       [1.0, 0.0, 0.0, ..., 4356, 18, '<=50K'],\n",
       "       [0.0, 0.0, 0.0, ..., 4356, 40, '<=50K'],\n",
       "       ...,\n",
       "       [0.0, 0.0, 0.0, ..., 0, 40, '>50K'],\n",
       "       [0.0, 0.0, 0.0, ..., 0, 40, '<=50K'],\n",
       "       [0.0, 0.0, 1.0, ..., 0, 20, '<=50K']], dtype=object)"
      ]
     },
     "execution_count": 17,
     "metadata": {},
     "output_type": "execute_result"
    }
   ],
   "source": [
    "transformer.fit_transform(df) #coba jalan atau tidak"
   ]
  },
  {
   "cell_type": "markdown",
   "metadata": {},
   "source": [
    "## Splitting Data"
   ]
  },
  {
   "cell_type": "code",
   "execution_count": 18,
   "metadata": {
    "ExecuteTime": {
     "end_time": "2022-01-18T01:35:23.007163Z",
     "start_time": "2022-01-18T01:35:22.993201Z"
    }
   },
   "outputs": [],
   "source": [
    "x=df.drop(columns=['fnlwgt','education','income'])\n",
    "y=np.where(df['income']=='>50K',1,0)"
   ]
  },
  {
   "cell_type": "code",
   "execution_count": 19,
   "metadata": {
    "ExecuteTime": {
     "end_time": "2022-01-18T01:35:23.023121Z",
     "start_time": "2022-01-18T01:35:23.010157Z"
    }
   },
   "outputs": [
    {
     "data": {
      "text/plain": [
       "0    24720\n",
       "1     7841\n",
       "dtype: int64"
      ]
     },
     "execution_count": 19,
     "metadata": {},
     "output_type": "execute_result"
    }
   ],
   "source": [
    "pd.Series(y).value_counts()"
   ]
  },
  {
   "cell_type": "code",
   "execution_count": 20,
   "metadata": {
    "ExecuteTime": {
     "end_time": "2022-01-18T01:35:23.055038Z",
     "start_time": "2022-01-18T01:35:23.028122Z"
    }
   },
   "outputs": [],
   "source": [
    "x_train,x_test, y_train, y_test= train_test_split(x,y, stratify=y, random_state=2020)"
   ]
  },
  {
   "cell_type": "markdown",
   "metadata": {},
   "source": [
    "## Benchmark"
   ]
  },
  {
   "cell_type": "code",
   "execution_count": 21,
   "metadata": {
    "ExecuteTime": {
     "end_time": "2022-01-18T01:35:23.070993Z",
     "start_time": "2022-01-18T01:35:23.056033Z"
    }
   },
   "outputs": [],
   "source": [
    "tree= DecisionTreeClassifier(criterion='entropy',max_depth=5, random_state=2020)\n",
    "pipe_tree=Pipeline([\n",
    "    ('preprocess',transformer),\n",
    "    ('model',tree)\n",
    "])"
   ]
  },
  {
   "cell_type": "code",
   "execution_count": 22,
   "metadata": {
    "ExecuteTime": {
     "end_time": "2022-01-18T01:35:23.935525Z",
     "start_time": "2022-01-18T01:35:23.074984Z"
    }
   },
   "outputs": [],
   "source": [
    "skfold= StratifiedKFold(n_splits=5)\n",
    "model_cv= cross_val_score(pipe_tree, x_train,y_train, scoring='f1',cv=5)"
   ]
  },
  {
   "cell_type": "code",
   "execution_count": 23,
   "metadata": {
    "ExecuteTime": {
     "end_time": "2022-01-18T01:35:23.950654Z",
     "start_time": "2022-01-18T01:35:23.937597Z"
    }
   },
   "outputs": [
    {
     "name": "stdout",
     "output_type": "stream",
     "text": [
      "[0.59255482 0.60502513 0.59898477 0.62110553 0.6221336 ]\n",
      "0.6079607686024484\n",
      "0.011833711368265581\n"
     ]
    }
   ],
   "source": [
    "print(model_cv)\n",
    "print(model_cv.mean())\n",
    "print(model_cv.std())"
   ]
  },
  {
   "cell_type": "code",
   "execution_count": 24,
   "metadata": {
    "ExecuteTime": {
     "end_time": "2022-01-18T01:35:23.965562Z",
     "start_time": "2022-01-18T01:35:23.951643Z"
    }
   },
   "outputs": [],
   "source": [
    "tree=DecisionTreeClassifier(criterion='entropy',max_depth=5,random_state=2020)\n",
    "logreg=LogisticRegression(solver='liblinear',random_state=2020)"
   ]
  },
  {
   "cell_type": "code",
   "execution_count": 25,
   "metadata": {
    "ExecuteTime": {
     "end_time": "2022-01-18T01:35:26.052508Z",
     "start_time": "2022-01-18T01:35:23.966561Z"
    }
   },
   "outputs": [],
   "source": [
    "models=[tree,logreg]\n",
    "score=[]\n",
    "rata=[]\n",
    "std=[]\n",
    "\n",
    "for i in models:\n",
    "    skfold= StratifiedKFold(n_splits=5)\n",
    "    estimator=Pipeline([\n",
    "        ('preprocessing',transformer),\n",
    "        ('model',i)\n",
    "    ])\n",
    "    model_cv=cross_val_score(estimator,x_train,y_train,cv=skfold,scoring='f1')\n",
    "    score.append(model_cv)\n",
    "    rata.append(model_cv.mean())\n",
    "    std.append(model_cv.std())"
   ]
  },
  {
   "cell_type": "code",
   "execution_count": 26,
   "metadata": {
    "ExecuteTime": {
     "end_time": "2022-01-18T01:35:26.068539Z",
     "start_time": "2022-01-18T01:35:26.053570Z"
    }
   },
   "outputs": [
    {
     "data": {
      "text/html": [
       "<div>\n",
       "<style scoped>\n",
       "    .dataframe tbody tr th:only-of-type {\n",
       "        vertical-align: middle;\n",
       "    }\n",
       "\n",
       "    .dataframe tbody tr th {\n",
       "        vertical-align: top;\n",
       "    }\n",
       "\n",
       "    .dataframe thead th {\n",
       "        text-align: right;\n",
       "    }\n",
       "</style>\n",
       "<table border=\"1\" class=\"dataframe\">\n",
       "  <thead>\n",
       "    <tr style=\"text-align: right;\">\n",
       "      <th></th>\n",
       "      <th>model</th>\n",
       "      <th>mean</th>\n",
       "      <th>std</th>\n",
       "    </tr>\n",
       "  </thead>\n",
       "  <tbody>\n",
       "    <tr>\n",
       "      <th>0</th>\n",
       "      <td>tree</td>\n",
       "      <td>0.607961</td>\n",
       "      <td>0.011834</td>\n",
       "    </tr>\n",
       "    <tr>\n",
       "      <th>1</th>\n",
       "      <td>logreg</td>\n",
       "      <td>0.640677</td>\n",
       "      <td>0.019889</td>\n",
       "    </tr>\n",
       "  </tbody>\n",
       "</table>\n",
       "</div>"
      ],
      "text/plain": [
       "    model      mean       std\n",
       "0    tree  0.607961  0.011834\n",
       "1  logreg  0.640677  0.019889"
      ]
     },
     "execution_count": 26,
     "metadata": {},
     "output_type": "execute_result"
    }
   ],
   "source": [
    "pd.DataFrame({\n",
    "    'model':['tree','logreg'],\n",
    "    'mean':rata,\n",
    "    'std':std\n",
    "})"
   ]
  },
  {
   "cell_type": "markdown",
   "metadata": {},
   "source": [
    "Dari hasil cross validasi logreg memiliki performa yang lebih baik dari tree, walaupun sedikit lebih tidak stabil. Kita bisa memilih logreg sebagai benchmark untuk kita tunning"
   ]
  },
  {
   "cell_type": "markdown",
   "metadata": {},
   "source": [
    "## Model Performance with Data test"
   ]
  },
  {
   "cell_type": "code",
   "execution_count": 27,
   "metadata": {
    "ExecuteTime": {
     "end_time": "2022-01-18T01:35:26.397354Z",
     "start_time": "2022-01-18T01:35:26.069531Z"
    }
   },
   "outputs": [],
   "source": [
    "logreg=LogisticRegression(solver='liblinear',random_state=2020)\n",
    "estimator=Pipeline([\n",
    "    ('preprocess',transformer),\n",
    "    ('model',logreg)\n",
    "])\n",
    "estimator.fit(x_train,y_train)\n",
    "y_pred= estimator.predict(x_test)"
   ]
  },
  {
   "cell_type": "code",
   "execution_count": 28,
   "metadata": {
    "ExecuteTime": {
     "end_time": "2022-01-18T01:35:26.413345Z",
     "start_time": "2022-01-18T01:35:26.398354Z"
    }
   },
   "outputs": [
    {
     "name": "stdout",
     "output_type": "stream",
     "text": [
      "              precision    recall  f1-score   support\n",
      "\n",
      "           0       0.88      0.93      0.90      6181\n",
      "           1       0.73      0.59      0.65      1960\n",
      "\n",
      "    accuracy                           0.85      8141\n",
      "   macro avg       0.81      0.76      0.78      8141\n",
      "weighted avg       0.84      0.85      0.84      8141\n",
      "\n"
     ]
    }
   ],
   "source": [
    "print(classification_report(y_test,y_pred))"
   ]
  },
  {
   "cell_type": "code",
   "execution_count": 29,
   "metadata": {
    "ExecuteTime": {
     "end_time": "2022-01-18T01:35:26.429457Z",
     "start_time": "2022-01-18T01:35:26.414311Z"
    }
   },
   "outputs": [
    {
     "data": {
      "text/plain": [
       "array([[-2.06589834e+00, -1.76471928e+00, -3.13567118e+00,\n",
       "        -2.30105668e+00,  1.08329068e+00, -1.09515282e+00,\n",
       "        -1.01960391e+00, -6.96146915e-01, -6.43503713e-01,\n",
       "         6.59873480e-01, -9.68860828e-02,  1.74453234e-01,\n",
       "         1.47669680e-01,  6.50665129e-01,  2.29407753e-01,\n",
       "        -6.21373988e-02, -4.84530889e-01, -5.95146901e-01,\n",
       "         4.51870566e-02, -4.71731669e-01,  4.92313898e-02,\n",
       "        -8.07250364e-01, -5.03459574e-01, -7.54969842e-01,\n",
       "        -1.37268704e-01, -8.42264114e-01,  1.68612364e-02,\n",
       "         2.30843888e-02,  3.06069765e-01,  3.09048541e-04,\n",
       "         6.36368710e-04,  2.57747471e-02]])"
      ]
     },
     "execution_count": 29,
     "metadata": {},
     "output_type": "execute_result"
    }
   ],
   "source": [
    "estimator[1].coef_ #kalau mau lihat coef"
   ]
  },
  {
   "cell_type": "code",
   "execution_count": 30,
   "metadata": {
    "ExecuteTime": {
     "end_time": "2022-01-18T01:35:26.445477Z",
     "start_time": "2022-01-18T01:35:26.430423Z"
    }
   },
   "outputs": [
    {
     "data": {
      "text/plain": [
       "array(['relationship_Not-in-family', 'relationship_Other-relative',\n",
       "       'relationship_Own-child', 'relationship_Unmarried',\n",
       "       'relationship_Wife', 'race_Asian-Pac-Islander', 'race_Black',\n",
       "       'race_Other', 'race_White', 'sex_Male'], dtype=object)"
      ]
     },
     "execution_count": 30,
     "metadata": {},
     "output_type": "execute_result"
    }
   ],
   "source": [
    "estimator[0].transformers_[0][1].get_feature_names_out()"
   ]
  },
  {
   "cell_type": "code",
   "execution_count": 31,
   "metadata": {
    "ExecuteTime": {
     "end_time": "2022-01-18T01:35:26.461435Z",
     "start_time": "2022-01-18T01:35:26.446442Z"
    }
   },
   "outputs": [
    {
     "data": {
      "text/plain": [
       "['0_1',\n",
       " '0_2',\n",
       " '0_3',\n",
       " '0_4',\n",
       " '1_1',\n",
       " '1_2',\n",
       " '1_3',\n",
       " '2_1',\n",
       " '2_2',\n",
       " '2_3',\n",
       " '2_4',\n",
       " '3_1',\n",
       " '3_2',\n",
       " '3_3',\n",
       " '3_4',\n",
       " '3_5',\n",
       " '3_6']"
      ]
     },
     "execution_count": 31,
     "metadata": {},
     "output_type": "execute_result"
    }
   ],
   "source": [
    "estimator[0].transformers_[1][1][1].get_feature_names()"
   ]
  },
  {
   "cell_type": "code",
   "execution_count": 32,
   "metadata": {
    "ExecuteTime": {
     "end_time": "2022-01-18T01:35:26.477396Z",
     "start_time": "2022-01-18T01:35:26.462400Z"
    }
   },
   "outputs": [
    {
     "data": {
      "text/plain": [
       "[('onehot', OneHotEncoder(drop='first'), ['relationship', 'race', 'sex']),\n",
       " ('binary',\n",
       "  Pipeline(steps=[('imputer',\n",
       "                   SimpleImputer(fill_value='NC', missing_values='?',\n",
       "                                 strategy='constant')),\n",
       "                  ('binary', BinaryEncoder(drop_invariant=True))]),\n",
       "  ['workclass', 'marital.status', 'occupation', 'native.country']),\n",
       " ('remainder', 'passthrough', [0, 2, 8, 9, 10])]"
      ]
     },
     "execution_count": 32,
     "metadata": {},
     "output_type": "execute_result"
    }
   ],
   "source": [
    "estimator[0].transformers_"
   ]
  },
  {
   "cell_type": "code",
   "execution_count": 33,
   "metadata": {
    "ExecuteTime": {
     "end_time": "2022-01-18T01:35:26.493321Z",
     "start_time": "2022-01-18T01:35:26.478358Z"
    }
   },
   "outputs": [
    {
     "data": {
      "text/plain": [
       "['age', 'education.num', 'capital.gain', 'capital.loss', 'hours.per.week']"
      ]
     },
     "execution_count": 33,
     "metadata": {},
     "output_type": "execute_result"
    }
   ],
   "source": [
    "list(x.iloc[:,[0, 2, 8, 9, 10]].columns)"
   ]
  },
  {
   "cell_type": "code",
   "execution_count": 34,
   "metadata": {
    "ExecuteTime": {
     "end_time": "2022-01-18T01:35:26.509276Z",
     "start_time": "2022-01-18T01:35:26.495312Z"
    }
   },
   "outputs": [],
   "source": [
    "feature=list(estimator[0].transformers_[0][1].get_feature_names_out())+estimator[0].transformers_[1][1][1].get_feature_names()+list(x.iloc[:,[0, 2, 8, 9, 10]].columns)"
   ]
  },
  {
   "cell_type": "code",
   "execution_count": 35,
   "metadata": {
    "ExecuteTime": {
     "end_time": "2022-01-18T01:35:26.525233Z",
     "start_time": "2022-01-18T01:35:26.512267Z"
    }
   },
   "outputs": [
    {
     "data": {
      "text/plain": [
       "32"
      ]
     },
     "execution_count": 35,
     "metadata": {},
     "output_type": "execute_result"
    }
   ],
   "source": [
    "len(feature)"
   ]
  },
  {
   "cell_type": "code",
   "execution_count": 36,
   "metadata": {
    "ExecuteTime": {
     "end_time": "2022-01-18T01:35:26.541221Z",
     "start_time": "2022-01-18T01:35:26.528224Z"
    }
   },
   "outputs": [
    {
     "data": {
      "text/html": [
       "<div>\n",
       "<style scoped>\n",
       "    .dataframe tbody tr th:only-of-type {\n",
       "        vertical-align: middle;\n",
       "    }\n",
       "\n",
       "    .dataframe tbody tr th {\n",
       "        vertical-align: top;\n",
       "    }\n",
       "\n",
       "    .dataframe thead th {\n",
       "        text-align: right;\n",
       "    }\n",
       "</style>\n",
       "<table border=\"1\" class=\"dataframe\">\n",
       "  <thead>\n",
       "    <tr style=\"text-align: right;\">\n",
       "      <th></th>\n",
       "      <th>coef</th>\n",
       "    </tr>\n",
       "  </thead>\n",
       "  <tbody>\n",
       "    <tr>\n",
       "      <th>relationship_Not-in-family</th>\n",
       "      <td>-2.065898</td>\n",
       "    </tr>\n",
       "    <tr>\n",
       "      <th>relationship_Other-relative</th>\n",
       "      <td>-1.764719</td>\n",
       "    </tr>\n",
       "    <tr>\n",
       "      <th>relationship_Own-child</th>\n",
       "      <td>-3.135671</td>\n",
       "    </tr>\n",
       "    <tr>\n",
       "      <th>relationship_Unmarried</th>\n",
       "      <td>-2.301057</td>\n",
       "    </tr>\n",
       "    <tr>\n",
       "      <th>relationship_Wife</th>\n",
       "      <td>1.083291</td>\n",
       "    </tr>\n",
       "    <tr>\n",
       "      <th>race_Asian-Pac-Islander</th>\n",
       "      <td>-1.095153</td>\n",
       "    </tr>\n",
       "    <tr>\n",
       "      <th>race_Black</th>\n",
       "      <td>-1.019604</td>\n",
       "    </tr>\n",
       "    <tr>\n",
       "      <th>race_Other</th>\n",
       "      <td>-0.696147</td>\n",
       "    </tr>\n",
       "    <tr>\n",
       "      <th>race_White</th>\n",
       "      <td>-0.643504</td>\n",
       "    </tr>\n",
       "    <tr>\n",
       "      <th>sex_Male</th>\n",
       "      <td>0.659873</td>\n",
       "    </tr>\n",
       "    <tr>\n",
       "      <th>0_1</th>\n",
       "      <td>-0.096886</td>\n",
       "    </tr>\n",
       "    <tr>\n",
       "      <th>0_2</th>\n",
       "      <td>0.174453</td>\n",
       "    </tr>\n",
       "    <tr>\n",
       "      <th>0_3</th>\n",
       "      <td>0.147670</td>\n",
       "    </tr>\n",
       "    <tr>\n",
       "      <th>0_4</th>\n",
       "      <td>0.650665</td>\n",
       "    </tr>\n",
       "    <tr>\n",
       "      <th>1_1</th>\n",
       "      <td>0.229408</td>\n",
       "    </tr>\n",
       "    <tr>\n",
       "      <th>1_2</th>\n",
       "      <td>-0.062137</td>\n",
       "    </tr>\n",
       "    <tr>\n",
       "      <th>1_3</th>\n",
       "      <td>-0.484531</td>\n",
       "    </tr>\n",
       "    <tr>\n",
       "      <th>2_1</th>\n",
       "      <td>-0.595147</td>\n",
       "    </tr>\n",
       "    <tr>\n",
       "      <th>2_2</th>\n",
       "      <td>0.045187</td>\n",
       "    </tr>\n",
       "    <tr>\n",
       "      <th>2_3</th>\n",
       "      <td>-0.471732</td>\n",
       "    </tr>\n",
       "    <tr>\n",
       "      <th>2_4</th>\n",
       "      <td>0.049231</td>\n",
       "    </tr>\n",
       "    <tr>\n",
       "      <th>3_1</th>\n",
       "      <td>-0.807250</td>\n",
       "    </tr>\n",
       "    <tr>\n",
       "      <th>3_2</th>\n",
       "      <td>-0.503460</td>\n",
       "    </tr>\n",
       "    <tr>\n",
       "      <th>3_3</th>\n",
       "      <td>-0.754970</td>\n",
       "    </tr>\n",
       "    <tr>\n",
       "      <th>3_4</th>\n",
       "      <td>-0.137269</td>\n",
       "    </tr>\n",
       "    <tr>\n",
       "      <th>3_5</th>\n",
       "      <td>-0.842264</td>\n",
       "    </tr>\n",
       "    <tr>\n",
       "      <th>3_6</th>\n",
       "      <td>0.016861</td>\n",
       "    </tr>\n",
       "    <tr>\n",
       "      <th>age</th>\n",
       "      <td>0.023084</td>\n",
       "    </tr>\n",
       "    <tr>\n",
       "      <th>education.num</th>\n",
       "      <td>0.306070</td>\n",
       "    </tr>\n",
       "    <tr>\n",
       "      <th>capital.gain</th>\n",
       "      <td>0.000309</td>\n",
       "    </tr>\n",
       "    <tr>\n",
       "      <th>capital.loss</th>\n",
       "      <td>0.000636</td>\n",
       "    </tr>\n",
       "    <tr>\n",
       "      <th>hours.per.week</th>\n",
       "      <td>0.025775</td>\n",
       "    </tr>\n",
       "  </tbody>\n",
       "</table>\n",
       "</div>"
      ],
      "text/plain": [
       "                                 coef\n",
       "relationship_Not-in-family  -2.065898\n",
       "relationship_Other-relative -1.764719\n",
       "relationship_Own-child      -3.135671\n",
       "relationship_Unmarried      -2.301057\n",
       "relationship_Wife            1.083291\n",
       "race_Asian-Pac-Islander     -1.095153\n",
       "race_Black                  -1.019604\n",
       "race_Other                  -0.696147\n",
       "race_White                  -0.643504\n",
       "sex_Male                     0.659873\n",
       "0_1                         -0.096886\n",
       "0_2                          0.174453\n",
       "0_3                          0.147670\n",
       "0_4                          0.650665\n",
       "1_1                          0.229408\n",
       "1_2                         -0.062137\n",
       "1_3                         -0.484531\n",
       "2_1                         -0.595147\n",
       "2_2                          0.045187\n",
       "2_3                         -0.471732\n",
       "2_4                          0.049231\n",
       "3_1                         -0.807250\n",
       "3_2                         -0.503460\n",
       "3_3                         -0.754970\n",
       "3_4                         -0.137269\n",
       "3_5                         -0.842264\n",
       "3_6                          0.016861\n",
       "age                          0.023084\n",
       "education.num                0.306070\n",
       "capital.gain                 0.000309\n",
       "capital.loss                 0.000636\n",
       "hours.per.week               0.025775"
      ]
     },
     "execution_count": 36,
     "metadata": {},
     "output_type": "execute_result"
    }
   ],
   "source": [
    "pd.DataFrame({'coef':estimator[1].coef_.flatten()}, index=feature)"
   ]
  },
  {
   "cell_type": "markdown",
   "metadata": {},
   "source": [
    "## Hyperparameter Tunning"
   ]
  },
  {
   "cell_type": "code",
   "execution_count": 37,
   "metadata": {
    "ExecuteTime": {
     "end_time": "2022-01-18T01:35:26.557147Z",
     "start_time": "2022-01-18T01:35:26.542187Z"
    }
   },
   "outputs": [],
   "source": [
    "logreg= LogisticRegression(solver='liblinear',random_state=2020)\n",
    "estimator=Pipeline([\n",
    "    ('preprocess',transformer),\n",
    "    ('model',logreg)\n",
    "])"
   ]
  },
  {
   "cell_type": "code",
   "execution_count": 38,
   "metadata": {
    "ExecuteTime": {
     "end_time": "2022-01-18T01:35:26.588426Z",
     "start_time": "2022-01-18T01:35:26.558144Z"
    }
   },
   "outputs": [
    {
     "data": {
      "text/plain": [
       "{'memory': None,\n",
       " 'steps': [('preprocess',\n",
       "   ColumnTransformer(remainder='passthrough',\n",
       "                     transformers=[('onehot', OneHotEncoder(drop='first'),\n",
       "                                    ['relationship', 'race', 'sex']),\n",
       "                                   ('binary',\n",
       "                                    Pipeline(steps=[('imputer',\n",
       "                                                     SimpleImputer(fill_value='NC',\n",
       "                                                                   missing_values='?',\n",
       "                                                                   strategy='constant')),\n",
       "                                                    ('binary',\n",
       "                                                     BinaryEncoder(drop_invariant=True))]),\n",
       "                                    ['workclass', 'marital.status', 'occupation',\n",
       "                                     'native.country'])])),\n",
       "  ('model', LogisticRegression(random_state=2020, solver='liblinear'))],\n",
       " 'verbose': False,\n",
       " 'preprocess': ColumnTransformer(remainder='passthrough',\n",
       "                   transformers=[('onehot', OneHotEncoder(drop='first'),\n",
       "                                  ['relationship', 'race', 'sex']),\n",
       "                                 ('binary',\n",
       "                                  Pipeline(steps=[('imputer',\n",
       "                                                   SimpleImputer(fill_value='NC',\n",
       "                                                                 missing_values='?',\n",
       "                                                                 strategy='constant')),\n",
       "                                                  ('binary',\n",
       "                                                   BinaryEncoder(drop_invariant=True))]),\n",
       "                                  ['workclass', 'marital.status', 'occupation',\n",
       "                                   'native.country'])]),\n",
       " 'model': LogisticRegression(random_state=2020, solver='liblinear'),\n",
       " 'preprocess__n_jobs': None,\n",
       " 'preprocess__remainder': 'passthrough',\n",
       " 'preprocess__sparse_threshold': 0.3,\n",
       " 'preprocess__transformer_weights': None,\n",
       " 'preprocess__transformers': [('onehot',\n",
       "   OneHotEncoder(drop='first'),\n",
       "   ['relationship', 'race', 'sex']),\n",
       "  ('binary',\n",
       "   Pipeline(steps=[('imputer',\n",
       "                    SimpleImputer(fill_value='NC', missing_values='?',\n",
       "                                  strategy='constant')),\n",
       "                   ('binary', BinaryEncoder(drop_invariant=True))]),\n",
       "   ['workclass', 'marital.status', 'occupation', 'native.country'])],\n",
       " 'preprocess__verbose': False,\n",
       " 'preprocess__verbose_feature_names_out': True,\n",
       " 'preprocess__onehot': OneHotEncoder(drop='first'),\n",
       " 'preprocess__binary': Pipeline(steps=[('imputer',\n",
       "                  SimpleImputer(fill_value='NC', missing_values='?',\n",
       "                                strategy='constant')),\n",
       "                 ('binary', BinaryEncoder(drop_invariant=True))]),\n",
       " 'preprocess__onehot__categories': 'auto',\n",
       " 'preprocess__onehot__drop': 'first',\n",
       " 'preprocess__onehot__dtype': numpy.float64,\n",
       " 'preprocess__onehot__handle_unknown': 'error',\n",
       " 'preprocess__onehot__sparse': True,\n",
       " 'preprocess__binary__memory': None,\n",
       " 'preprocess__binary__steps': [('imputer',\n",
       "   SimpleImputer(fill_value='NC', missing_values='?', strategy='constant')),\n",
       "  ('binary', BinaryEncoder(drop_invariant=True))],\n",
       " 'preprocess__binary__verbose': False,\n",
       " 'preprocess__binary__imputer': SimpleImputer(fill_value='NC', missing_values='?', strategy='constant'),\n",
       " 'preprocess__binary__binary': BinaryEncoder(drop_invariant=True),\n",
       " 'preprocess__binary__imputer__add_indicator': False,\n",
       " 'preprocess__binary__imputer__copy': True,\n",
       " 'preprocess__binary__imputer__fill_value': 'NC',\n",
       " 'preprocess__binary__imputer__missing_values': '?',\n",
       " 'preprocess__binary__imputer__strategy': 'constant',\n",
       " 'preprocess__binary__imputer__verbose': 0,\n",
       " 'preprocess__binary__binary__cols': None,\n",
       " 'preprocess__binary__binary__drop_invariant': True,\n",
       " 'preprocess__binary__binary__handle_missing': 'value',\n",
       " 'preprocess__binary__binary__handle_unknown': 'value',\n",
       " 'preprocess__binary__binary__mapping': None,\n",
       " 'preprocess__binary__binary__return_df': True,\n",
       " 'preprocess__binary__binary__verbose': 0,\n",
       " 'model__C': 1.0,\n",
       " 'model__class_weight': None,\n",
       " 'model__dual': False,\n",
       " 'model__fit_intercept': True,\n",
       " 'model__intercept_scaling': 1,\n",
       " 'model__l1_ratio': None,\n",
       " 'model__max_iter': 100,\n",
       " 'model__multi_class': 'auto',\n",
       " 'model__n_jobs': None,\n",
       " 'model__penalty': 'l2',\n",
       " 'model__random_state': 2020,\n",
       " 'model__solver': 'liblinear',\n",
       " 'model__tol': 0.0001,\n",
       " 'model__verbose': 0,\n",
       " 'model__warm_start': False}"
      ]
     },
     "execution_count": 38,
     "metadata": {},
     "output_type": "execute_result"
    }
   ],
   "source": [
    "estimator.get_params()"
   ]
  },
  {
   "cell_type": "code",
   "execution_count": 39,
   "metadata": {
    "ExecuteTime": {
     "end_time": "2022-01-18T01:35:26.604360Z",
     "start_time": "2022-01-18T01:35:26.589426Z"
    }
   },
   "outputs": [],
   "source": [
    "hyperparam_space={\n",
    "    'model__C':[100,10,1,0.1,0.001],\n",
    "    'model__solver':['liblinear','newton-cg']\n",
    "}"
   ]
  },
  {
   "cell_type": "code",
   "execution_count": 40,
   "metadata": {
    "ExecuteTime": {
     "end_time": "2022-01-18T01:35:26.620340Z",
     "start_time": "2022-01-18T01:35:26.606389Z"
    }
   },
   "outputs": [],
   "source": [
    "skfold=StratifiedKFold(n_splits=5)\n",
    "grid_search=GridSearchCV(\n",
    "    estimator,\n",
    "    param_grid=hyperparam_space,\n",
    "    cv=skfold,\n",
    "    scoring='f1',\n",
    "    n_jobs=-1\n",
    ")"
   ]
  },
  {
   "cell_type": "code",
   "execution_count": 41,
   "metadata": {
    "ExecuteTime": {
     "end_time": "2022-01-18T01:36:03.934216Z",
     "start_time": "2022-01-18T01:35:26.621338Z"
    }
   },
   "outputs": [
    {
     "data": {
      "text/plain": [
       "GridSearchCV(cv=StratifiedKFold(n_splits=5, random_state=None, shuffle=False),\n",
       "             estimator=Pipeline(steps=[('preprocess',\n",
       "                                        ColumnTransformer(remainder='passthrough',\n",
       "                                                          transformers=[('onehot',\n",
       "                                                                         OneHotEncoder(drop='first'),\n",
       "                                                                         ['relationship',\n",
       "                                                                          'race',\n",
       "                                                                          'sex']),\n",
       "                                                                        ('binary',\n",
       "                                                                         Pipeline(steps=[('imputer',\n",
       "                                                                                          SimpleImputer(fill_value='NC',\n",
       "                                                                                                        missing_values='?',\n",
       "                                                                                                        strategy='constant')),\n",
       "                                                                                         ('binary',\n",
       "                                                                                          BinaryEncoder(drop_invariant=True))]),\n",
       "                                                                         ['workclass',\n",
       "                                                                          'marital.status',\n",
       "                                                                          'occupation',\n",
       "                                                                          'native.country'])])),\n",
       "                                       ('model',\n",
       "                                        LogisticRegression(random_state=2020,\n",
       "                                                           solver='liblinear'))]),\n",
       "             n_jobs=-1,\n",
       "             param_grid={'model__C': [100, 10, 1, 0.1, 0.001],\n",
       "                         'model__solver': ['liblinear', 'newton-cg']},\n",
       "             scoring='f1')"
      ]
     },
     "execution_count": 41,
     "metadata": {},
     "output_type": "execute_result"
    }
   ],
   "source": [
    "grid_search.fit(x_train,y_train)"
   ]
  },
  {
   "cell_type": "code",
   "execution_count": 42,
   "metadata": {
    "ExecuteTime": {
     "end_time": "2022-01-18T01:36:03.949144Z",
     "start_time": "2022-01-18T01:36:03.935180Z"
    }
   },
   "outputs": [
    {
     "name": "stdout",
     "output_type": "stream",
     "text": [
      "0.6460237640462658\n",
      "{'model__C': 100, 'model__solver': 'newton-cg'}\n"
     ]
    }
   ],
   "source": [
    "print(grid_search.best_score_)\n",
    "print(grid_search.best_params_)"
   ]
  },
  {
   "cell_type": "code",
   "execution_count": 43,
   "metadata": {
    "ExecuteTime": {
     "end_time": "2022-01-18T01:36:03.981089Z",
     "start_time": "2022-01-18T01:36:03.950141Z"
    }
   },
   "outputs": [
    {
     "data": {
      "text/html": [
       "<div>\n",
       "<style scoped>\n",
       "    .dataframe tbody tr th:only-of-type {\n",
       "        vertical-align: middle;\n",
       "    }\n",
       "\n",
       "    .dataframe tbody tr th {\n",
       "        vertical-align: top;\n",
       "    }\n",
       "\n",
       "    .dataframe thead th {\n",
       "        text-align: right;\n",
       "    }\n",
       "</style>\n",
       "<table border=\"1\" class=\"dataframe\">\n",
       "  <thead>\n",
       "    <tr style=\"text-align: right;\">\n",
       "      <th></th>\n",
       "      <th>mean_fit_time</th>\n",
       "      <th>std_fit_time</th>\n",
       "      <th>mean_score_time</th>\n",
       "      <th>std_score_time</th>\n",
       "      <th>param_model__C</th>\n",
       "      <th>param_model__solver</th>\n",
       "      <th>params</th>\n",
       "      <th>split0_test_score</th>\n",
       "      <th>split1_test_score</th>\n",
       "      <th>split2_test_score</th>\n",
       "      <th>split3_test_score</th>\n",
       "      <th>split4_test_score</th>\n",
       "      <th>mean_test_score</th>\n",
       "      <th>std_test_score</th>\n",
       "      <th>rank_test_score</th>\n",
       "    </tr>\n",
       "  </thead>\n",
       "  <tbody>\n",
       "    <tr>\n",
       "      <th>0</th>\n",
       "      <td>1.970162</td>\n",
       "      <td>0.279224</td>\n",
       "      <td>0.099933</td>\n",
       "      <td>0.024021</td>\n",
       "      <td>100</td>\n",
       "      <td>liblinear</td>\n",
       "      <td>{'model__C': 100, 'model__solver': 'liblinear'}</td>\n",
       "      <td>0.606654</td>\n",
       "      <td>0.661025</td>\n",
       "      <td>0.632089</td>\n",
       "      <td>0.640535</td>\n",
       "      <td>0.655238</td>\n",
       "      <td>0.639108</td>\n",
       "      <td>0.019210</td>\n",
       "      <td>7</td>\n",
       "    </tr>\n",
       "    <tr>\n",
       "      <th>1</th>\n",
       "      <td>22.275088</td>\n",
       "      <td>3.898713</td>\n",
       "      <td>0.096945</td>\n",
       "      <td>0.015023</td>\n",
       "      <td>100</td>\n",
       "      <td>newton-cg</td>\n",
       "      <td>{'model__C': 100, 'model__solver': 'newton-cg'}</td>\n",
       "      <td>0.625773</td>\n",
       "      <td>0.665730</td>\n",
       "      <td>0.628846</td>\n",
       "      <td>0.642790</td>\n",
       "      <td>0.666980</td>\n",
       "      <td>0.646024</td>\n",
       "      <td>0.017568</td>\n",
       "      <td>1</td>\n",
       "    </tr>\n",
       "    <tr>\n",
       "      <th>2</th>\n",
       "      <td>2.312854</td>\n",
       "      <td>0.458987</td>\n",
       "      <td>0.114893</td>\n",
       "      <td>0.028667</td>\n",
       "      <td>10</td>\n",
       "      <td>liblinear</td>\n",
       "      <td>{'model__C': 10, 'model__solver': 'liblinear'}</td>\n",
       "      <td>0.606654</td>\n",
       "      <td>0.660714</td>\n",
       "      <td>0.634264</td>\n",
       "      <td>0.640842</td>\n",
       "      <td>0.665728</td>\n",
       "      <td>0.641640</td>\n",
       "      <td>0.021086</td>\n",
       "      <td>5</td>\n",
       "    </tr>\n",
       "    <tr>\n",
       "      <th>3</th>\n",
       "      <td>15.716847</td>\n",
       "      <td>1.796297</td>\n",
       "      <td>0.109706</td>\n",
       "      <td>0.040256</td>\n",
       "      <td>10</td>\n",
       "      <td>newton-cg</td>\n",
       "      <td>{'model__C': 10, 'model__solver': 'newton-cg'}</td>\n",
       "      <td>0.625119</td>\n",
       "      <td>0.665730</td>\n",
       "      <td>0.628846</td>\n",
       "      <td>0.643093</td>\n",
       "      <td>0.666980</td>\n",
       "      <td>0.645954</td>\n",
       "      <td>0.017710</td>\n",
       "      <td>2</td>\n",
       "    </tr>\n",
       "    <tr>\n",
       "      <th>4</th>\n",
       "      <td>2.754455</td>\n",
       "      <td>0.213189</td>\n",
       "      <td>0.107313</td>\n",
       "      <td>0.009326</td>\n",
       "      <td>1</td>\n",
       "      <td>liblinear</td>\n",
       "      <td>{'model__C': 1, 'model__solver': 'liblinear'}</td>\n",
       "      <td>0.606565</td>\n",
       "      <td>0.660714</td>\n",
       "      <td>0.633317</td>\n",
       "      <td>0.643363</td>\n",
       "      <td>0.659424</td>\n",
       "      <td>0.640677</td>\n",
       "      <td>0.019889</td>\n",
       "      <td>6</td>\n",
       "    </tr>\n",
       "    <tr>\n",
       "      <th>5</th>\n",
       "      <td>11.422483</td>\n",
       "      <td>0.811401</td>\n",
       "      <td>0.093954</td>\n",
       "      <td>0.012309</td>\n",
       "      <td>1</td>\n",
       "      <td>newton-cg</td>\n",
       "      <td>{'model__C': 1, 'model__solver': 'newton-cg'}</td>\n",
       "      <td>0.624762</td>\n",
       "      <td>0.664477</td>\n",
       "      <td>0.627526</td>\n",
       "      <td>0.642756</td>\n",
       "      <td>0.666353</td>\n",
       "      <td>0.645175</td>\n",
       "      <td>0.017636</td>\n",
       "      <td>3</td>\n",
       "    </tr>\n",
       "    <tr>\n",
       "      <th>6</th>\n",
       "      <td>2.129018</td>\n",
       "      <td>0.159767</td>\n",
       "      <td>0.093151</td>\n",
       "      <td>0.011081</td>\n",
       "      <td>0.1</td>\n",
       "      <td>liblinear</td>\n",
       "      <td>{'model__C': 0.1, 'model__solver': 'liblinear'}</td>\n",
       "      <td>0.601779</td>\n",
       "      <td>0.633171</td>\n",
       "      <td>0.621100</td>\n",
       "      <td>0.636711</td>\n",
       "      <td>0.644380</td>\n",
       "      <td>0.627428</td>\n",
       "      <td>0.014862</td>\n",
       "      <td>8</td>\n",
       "    </tr>\n",
       "    <tr>\n",
       "      <th>7</th>\n",
       "      <td>8.279607</td>\n",
       "      <td>0.275136</td>\n",
       "      <td>0.076787</td>\n",
       "      <td>0.022832</td>\n",
       "      <td>0.1</td>\n",
       "      <td>newton-cg</td>\n",
       "      <td>{'model__C': 0.1, 'model__solver': 'newton-cg'}</td>\n",
       "      <td>0.622778</td>\n",
       "      <td>0.661633</td>\n",
       "      <td>0.623188</td>\n",
       "      <td>0.644550</td>\n",
       "      <td>0.664775</td>\n",
       "      <td>0.643385</td>\n",
       "      <td>0.018025</td>\n",
       "      <td>4</td>\n",
       "    </tr>\n",
       "    <tr>\n",
       "      <th>8</th>\n",
       "      <td>1.839515</td>\n",
       "      <td>0.139516</td>\n",
       "      <td>0.098138</td>\n",
       "      <td>0.007480</td>\n",
       "      <td>0.001</td>\n",
       "      <td>liblinear</td>\n",
       "      <td>{'model__C': 0.001, 'model__solver': 'liblinear'}</td>\n",
       "      <td>0.431373</td>\n",
       "      <td>0.448276</td>\n",
       "      <td>0.392405</td>\n",
       "      <td>0.431108</td>\n",
       "      <td>0.439601</td>\n",
       "      <td>0.428553</td>\n",
       "      <td>0.019143</td>\n",
       "      <td>10</td>\n",
       "    </tr>\n",
       "    <tr>\n",
       "      <th>9</th>\n",
       "      <td>4.723889</td>\n",
       "      <td>0.304718</td>\n",
       "      <td>0.034525</td>\n",
       "      <td>0.007334</td>\n",
       "      <td>0.001</td>\n",
       "      <td>newton-cg</td>\n",
       "      <td>{'model__C': 0.001, 'model__solver': 'newton-cg'}</td>\n",
       "      <td>0.557794</td>\n",
       "      <td>0.559358</td>\n",
       "      <td>0.536559</td>\n",
       "      <td>0.569910</td>\n",
       "      <td>0.572038</td>\n",
       "      <td>0.559132</td>\n",
       "      <td>0.012603</td>\n",
       "      <td>9</td>\n",
       "    </tr>\n",
       "  </tbody>\n",
       "</table>\n",
       "</div>"
      ],
      "text/plain": [
       "   mean_fit_time  std_fit_time  mean_score_time  std_score_time  \\\n",
       "0       1.970162      0.279224         0.099933        0.024021   \n",
       "1      22.275088      3.898713         0.096945        0.015023   \n",
       "2       2.312854      0.458987         0.114893        0.028667   \n",
       "3      15.716847      1.796297         0.109706        0.040256   \n",
       "4       2.754455      0.213189         0.107313        0.009326   \n",
       "5      11.422483      0.811401         0.093954        0.012309   \n",
       "6       2.129018      0.159767         0.093151        0.011081   \n",
       "7       8.279607      0.275136         0.076787        0.022832   \n",
       "8       1.839515      0.139516         0.098138        0.007480   \n",
       "9       4.723889      0.304718         0.034525        0.007334   \n",
       "\n",
       "  param_model__C param_model__solver  \\\n",
       "0            100           liblinear   \n",
       "1            100           newton-cg   \n",
       "2             10           liblinear   \n",
       "3             10           newton-cg   \n",
       "4              1           liblinear   \n",
       "5              1           newton-cg   \n",
       "6            0.1           liblinear   \n",
       "7            0.1           newton-cg   \n",
       "8          0.001           liblinear   \n",
       "9          0.001           newton-cg   \n",
       "\n",
       "                                              params  split0_test_score  \\\n",
       "0    {'model__C': 100, 'model__solver': 'liblinear'}           0.606654   \n",
       "1    {'model__C': 100, 'model__solver': 'newton-cg'}           0.625773   \n",
       "2     {'model__C': 10, 'model__solver': 'liblinear'}           0.606654   \n",
       "3     {'model__C': 10, 'model__solver': 'newton-cg'}           0.625119   \n",
       "4      {'model__C': 1, 'model__solver': 'liblinear'}           0.606565   \n",
       "5      {'model__C': 1, 'model__solver': 'newton-cg'}           0.624762   \n",
       "6    {'model__C': 0.1, 'model__solver': 'liblinear'}           0.601779   \n",
       "7    {'model__C': 0.1, 'model__solver': 'newton-cg'}           0.622778   \n",
       "8  {'model__C': 0.001, 'model__solver': 'liblinear'}           0.431373   \n",
       "9  {'model__C': 0.001, 'model__solver': 'newton-cg'}           0.557794   \n",
       "\n",
       "   split1_test_score  split2_test_score  split3_test_score  split4_test_score  \\\n",
       "0           0.661025           0.632089           0.640535           0.655238   \n",
       "1           0.665730           0.628846           0.642790           0.666980   \n",
       "2           0.660714           0.634264           0.640842           0.665728   \n",
       "3           0.665730           0.628846           0.643093           0.666980   \n",
       "4           0.660714           0.633317           0.643363           0.659424   \n",
       "5           0.664477           0.627526           0.642756           0.666353   \n",
       "6           0.633171           0.621100           0.636711           0.644380   \n",
       "7           0.661633           0.623188           0.644550           0.664775   \n",
       "8           0.448276           0.392405           0.431108           0.439601   \n",
       "9           0.559358           0.536559           0.569910           0.572038   \n",
       "\n",
       "   mean_test_score  std_test_score  rank_test_score  \n",
       "0         0.639108        0.019210                7  \n",
       "1         0.646024        0.017568                1  \n",
       "2         0.641640        0.021086                5  \n",
       "3         0.645954        0.017710                2  \n",
       "4         0.640677        0.019889                6  \n",
       "5         0.645175        0.017636                3  \n",
       "6         0.627428        0.014862                8  \n",
       "7         0.643385        0.018025                4  \n",
       "8         0.428553        0.019143               10  \n",
       "9         0.559132        0.012603                9  "
      ]
     },
     "execution_count": 43,
     "metadata": {},
     "output_type": "execute_result"
    }
   ],
   "source": [
    "pd.DataFrame(grid_search.cv_results_)"
   ]
  },
  {
   "cell_type": "markdown",
   "metadata": {},
   "source": [
    "## Before vs After Tunning"
   ]
  },
  {
   "cell_type": "code",
   "execution_count": 44,
   "metadata": {
    "ExecuteTime": {
     "end_time": "2022-01-18T01:36:04.281940Z",
     "start_time": "2022-01-18T01:36:03.982055Z"
    }
   },
   "outputs": [
    {
     "data": {
      "text/plain": [
       "Pipeline(steps=[('preprocess',\n",
       "                 ColumnTransformer(remainder='passthrough',\n",
       "                                   transformers=[('onehot',\n",
       "                                                  OneHotEncoder(drop='first'),\n",
       "                                                  ['relationship', 'race',\n",
       "                                                   'sex']),\n",
       "                                                 ('binary',\n",
       "                                                  Pipeline(steps=[('imputer',\n",
       "                                                                   SimpleImputer(fill_value='NC',\n",
       "                                                                                 missing_values='?',\n",
       "                                                                                 strategy='constant')),\n",
       "                                                                  ('binary',\n",
       "                                                                   BinaryEncoder(drop_invariant=True))]),\n",
       "                                                  ['workclass',\n",
       "                                                   'marital.status',\n",
       "                                                   'occupation',\n",
       "                                                   'native.country'])])),\n",
       "                ('model',\n",
       "                 LogisticRegression(random_state=2020, solver='liblinear'))])"
      ]
     },
     "execution_count": 44,
     "metadata": {},
     "output_type": "execute_result"
    }
   ],
   "source": [
    "logreg= LogisticRegression(solver='liblinear', random_state=2020)\n",
    "estimator= Pipeline([\n",
    "    ('preprocess',transformer),\n",
    "    ('model',logreg)\n",
    "])\n",
    "estimator.fit(x_train,y_train)"
   ]
  },
  {
   "cell_type": "code",
   "execution_count": 45,
   "metadata": {
    "ExecuteTime": {
     "end_time": "2022-01-18T01:36:04.329794Z",
     "start_time": "2022-01-18T01:36:04.282888Z"
    }
   },
   "outputs": [
    {
     "name": "stdout",
     "output_type": "stream",
     "text": [
      "              precision    recall  f1-score   support\n",
      "\n",
      "           0       0.88      0.93      0.90      6181\n",
      "           1       0.73      0.59      0.65      1960\n",
      "\n",
      "    accuracy                           0.85      8141\n",
      "   macro avg       0.81      0.76      0.78      8141\n",
      "weighted avg       0.84      0.85      0.84      8141\n",
      "\n"
     ]
    }
   ],
   "source": [
    "y_pred=estimator.predict(x_test)\n",
    "print(classification_report(y_test,y_pred))"
   ]
  },
  {
   "cell_type": "code",
   "execution_count": 46,
   "metadata": {
    "ExecuteTime": {
     "end_time": "2022-01-18T01:36:04.345757Z",
     "start_time": "2022-01-18T01:36:04.330803Z"
    }
   },
   "outputs": [
    {
     "data": {
      "text/plain": [
       "0.6521246458923512"
      ]
     },
     "execution_count": 46,
     "metadata": {},
     "output_type": "execute_result"
    }
   ],
   "source": [
    "from sklearn.metrics import f1_score\n",
    "f1_score(y_test,y_pred)"
   ]
  },
  {
   "cell_type": "code",
   "execution_count": 47,
   "metadata": {
    "ExecuteTime": {
     "end_time": "2022-01-18T01:36:07.183806Z",
     "start_time": "2022-01-18T01:36:04.346715Z"
    }
   },
   "outputs": [
    {
     "data": {
      "text/plain": [
       "Pipeline(steps=[('preprocess',\n",
       "                 ColumnTransformer(remainder='passthrough',\n",
       "                                   transformers=[('onehot',\n",
       "                                                  OneHotEncoder(drop='first'),\n",
       "                                                  ['relationship', 'race',\n",
       "                                                   'sex']),\n",
       "                                                 ('binary',\n",
       "                                                  Pipeline(steps=[('imputer',\n",
       "                                                                   SimpleImputer(fill_value='NC',\n",
       "                                                                                 missing_values='?',\n",
       "                                                                                 strategy='constant')),\n",
       "                                                                  ('binary',\n",
       "                                                                   BinaryEncoder(drop_invariant=True))]),\n",
       "                                                  ['workclass',\n",
       "                                                   'marital.status',\n",
       "                                                   'occupation',\n",
       "                                                   'native.country'])])),\n",
       "                ('model',\n",
       "                 LogisticRegression(C=100, random_state=2020,\n",
       "                                    solver='newton-cg'))])"
      ]
     },
     "execution_count": 47,
     "metadata": {},
     "output_type": "execute_result"
    }
   ],
   "source": [
    "# after\n",
    "best_model=grid_search.best_estimator_\n",
    "best_model.fit(x_train,y_train)"
   ]
  },
  {
   "cell_type": "code",
   "execution_count": 48,
   "metadata": {
    "ExecuteTime": {
     "end_time": "2022-01-18T01:36:07.247637Z",
     "start_time": "2022-01-18T01:36:07.184804Z"
    }
   },
   "outputs": [
    {
     "name": "stdout",
     "output_type": "stream",
     "text": [
      "              precision    recall  f1-score   support\n",
      "\n",
      "           0       0.88      0.93      0.90      6181\n",
      "           1       0.73      0.60      0.66      1960\n",
      "\n",
      "    accuracy                           0.85      8141\n",
      "   macro avg       0.80      0.76      0.78      8141\n",
      "weighted avg       0.84      0.85      0.84      8141\n",
      "\n"
     ]
    }
   ],
   "source": [
    "y_pred=best_model.predict(x_test)\n",
    "print(classification_report(y_test,y_pred))"
   ]
  },
  {
   "cell_type": "code",
   "execution_count": 49,
   "metadata": {
    "ExecuteTime": {
     "end_time": "2022-01-18T01:36:07.263594Z",
     "start_time": "2022-01-18T01:36:07.249630Z"
    }
   },
   "outputs": [
    {
     "data": {
      "text/plain": [
       "0.6567749160134378"
      ]
     },
     "execution_count": 49,
     "metadata": {},
     "output_type": "execute_result"
    }
   ],
   "source": [
    "f1_score(y_test,y_pred)"
   ]
  },
  {
   "cell_type": "markdown",
   "metadata": {},
   "source": [
    "Performa model naik sedikit, dengan presisi dari 65.3% menjadi 65.7%"
   ]
  },
  {
   "cell_type": "markdown",
   "metadata": {},
   "source": [
    "### Model Atributte after tunning"
   ]
  },
  {
   "cell_type": "code",
   "execution_count": 50,
   "metadata": {
    "ExecuteTime": {
     "end_time": "2022-01-18T01:36:07.279550Z",
     "start_time": "2022-01-18T01:36:07.264590Z"
    }
   },
   "outputs": [
    {
     "data": {
      "text/html": [
       "<div>\n",
       "<style scoped>\n",
       "    .dataframe tbody tr th:only-of-type {\n",
       "        vertical-align: middle;\n",
       "    }\n",
       "\n",
       "    .dataframe tbody tr th {\n",
       "        vertical-align: top;\n",
       "    }\n",
       "\n",
       "    .dataframe thead th {\n",
       "        text-align: right;\n",
       "    }\n",
       "</style>\n",
       "<table border=\"1\" class=\"dataframe\">\n",
       "  <thead>\n",
       "    <tr style=\"text-align: right;\">\n",
       "      <th></th>\n",
       "      <th>coef</th>\n",
       "    </tr>\n",
       "  </thead>\n",
       "  <tbody>\n",
       "    <tr>\n",
       "      <th>relationship_Not-in-family</th>\n",
       "      <td>-1.580381</td>\n",
       "    </tr>\n",
       "    <tr>\n",
       "      <th>relationship_Other-relative</th>\n",
       "      <td>-1.684430</td>\n",
       "    </tr>\n",
       "    <tr>\n",
       "      <th>relationship_Own-child</th>\n",
       "      <td>-2.748223</td>\n",
       "    </tr>\n",
       "    <tr>\n",
       "      <th>relationship_Unmarried</th>\n",
       "      <td>-1.774852</td>\n",
       "    </tr>\n",
       "    <tr>\n",
       "      <th>relationship_Wife</th>\n",
       "      <td>1.343653</td>\n",
       "    </tr>\n",
       "    <tr>\n",
       "      <th>race_Asian-Pac-Islander</th>\n",
       "      <td>0.803037</td>\n",
       "    </tr>\n",
       "    <tr>\n",
       "      <th>race_Black</th>\n",
       "      <td>0.520847</td>\n",
       "    </tr>\n",
       "    <tr>\n",
       "      <th>race_Other</th>\n",
       "      <td>0.092180</td>\n",
       "    </tr>\n",
       "    <tr>\n",
       "      <th>race_White</th>\n",
       "      <td>0.777806</td>\n",
       "    </tr>\n",
       "    <tr>\n",
       "      <th>sex_Male</th>\n",
       "      <td>0.792385</td>\n",
       "    </tr>\n",
       "    <tr>\n",
       "      <th>0_1</th>\n",
       "      <td>-4.056853</td>\n",
       "    </tr>\n",
       "    <tr>\n",
       "      <th>0_2</th>\n",
       "      <td>0.153404</td>\n",
       "    </tr>\n",
       "    <tr>\n",
       "      <th>0_3</th>\n",
       "      <td>0.120661</td>\n",
       "    </tr>\n",
       "    <tr>\n",
       "      <th>0_4</th>\n",
       "      <td>0.657107</td>\n",
       "    </tr>\n",
       "    <tr>\n",
       "      <th>1_1</th>\n",
       "      <td>0.188772</td>\n",
       "    </tr>\n",
       "    <tr>\n",
       "      <th>1_2</th>\n",
       "      <td>0.450135</td>\n",
       "    </tr>\n",
       "    <tr>\n",
       "      <th>1_3</th>\n",
       "      <td>-0.019471</td>\n",
       "    </tr>\n",
       "    <tr>\n",
       "      <th>2_1</th>\n",
       "      <td>-0.524860</td>\n",
       "    </tr>\n",
       "    <tr>\n",
       "      <th>2_2</th>\n",
       "      <td>0.120255</td>\n",
       "    </tr>\n",
       "    <tr>\n",
       "      <th>2_3</th>\n",
       "      <td>-0.444604</td>\n",
       "    </tr>\n",
       "    <tr>\n",
       "      <th>2_4</th>\n",
       "      <td>0.136110</td>\n",
       "    </tr>\n",
       "    <tr>\n",
       "      <th>3_1</th>\n",
       "      <td>-0.685386</td>\n",
       "    </tr>\n",
       "    <tr>\n",
       "      <th>3_2</th>\n",
       "      <td>-0.367728</td>\n",
       "    </tr>\n",
       "    <tr>\n",
       "      <th>3_3</th>\n",
       "      <td>-0.138672</td>\n",
       "    </tr>\n",
       "    <tr>\n",
       "      <th>3_4</th>\n",
       "      <td>0.199376</td>\n",
       "    </tr>\n",
       "    <tr>\n",
       "      <th>3_5</th>\n",
       "      <td>0.157896</td>\n",
       "    </tr>\n",
       "    <tr>\n",
       "      <th>3_6</th>\n",
       "      <td>0.073588</td>\n",
       "    </tr>\n",
       "    <tr>\n",
       "      <th>age</th>\n",
       "      <td>0.027741</td>\n",
       "    </tr>\n",
       "    <tr>\n",
       "      <th>education.num</th>\n",
       "      <td>0.335187</td>\n",
       "    </tr>\n",
       "    <tr>\n",
       "      <th>capital.gain</th>\n",
       "      <td>0.000313</td>\n",
       "    </tr>\n",
       "    <tr>\n",
       "      <th>capital.loss</th>\n",
       "      <td>0.000642</td>\n",
       "    </tr>\n",
       "    <tr>\n",
       "      <th>hours.per.week</th>\n",
       "      <td>0.030441</td>\n",
       "    </tr>\n",
       "  </tbody>\n",
       "</table>\n",
       "</div>"
      ],
      "text/plain": [
       "                                 coef\n",
       "relationship_Not-in-family  -1.580381\n",
       "relationship_Other-relative -1.684430\n",
       "relationship_Own-child      -2.748223\n",
       "relationship_Unmarried      -1.774852\n",
       "relationship_Wife            1.343653\n",
       "race_Asian-Pac-Islander      0.803037\n",
       "race_Black                   0.520847\n",
       "race_Other                   0.092180\n",
       "race_White                   0.777806\n",
       "sex_Male                     0.792385\n",
       "0_1                         -4.056853\n",
       "0_2                          0.153404\n",
       "0_3                          0.120661\n",
       "0_4                          0.657107\n",
       "1_1                          0.188772\n",
       "1_2                          0.450135\n",
       "1_3                         -0.019471\n",
       "2_1                         -0.524860\n",
       "2_2                          0.120255\n",
       "2_3                         -0.444604\n",
       "2_4                          0.136110\n",
       "3_1                         -0.685386\n",
       "3_2                         -0.367728\n",
       "3_3                         -0.138672\n",
       "3_4                          0.199376\n",
       "3_5                          0.157896\n",
       "3_6                          0.073588\n",
       "age                          0.027741\n",
       "education.num                0.335187\n",
       "capital.gain                 0.000313\n",
       "capital.loss                 0.000642\n",
       "hours.per.week               0.030441"
      ]
     },
     "execution_count": 50,
     "metadata": {},
     "output_type": "execute_result"
    }
   ],
   "source": [
    "pd.DataFrame({'coef':best_model[1].coef_.flatten()},index=feature)"
   ]
  },
  {
   "cell_type": "code",
   "execution_count": null,
   "metadata": {},
   "outputs": [],
   "source": []
  },
  {
   "cell_type": "markdown",
   "metadata": {},
   "source": [
    "# latihan\n",
    "Dengan menggunakan data titanic:  \n",
    "* x= *sex*, age, fare, *class*, *embark_town*, *alone*  \n",
    "* y= survived\n",
    "* test size 0.2\n",
    "* random state 2020\n",
    "\n",
    "\n",
    "Dan skema preprocesing berikut:\n",
    "* simple imputer most frequent: embark town\n",
    "* simple imputer median: age\n",
    "* onehot: sex, embark town, alone  \n",
    "* ordinal: class\n",
    "* untuk logreg saja: fare, age: robust scaling  \n",
    "\n",
    "\n",
    "pilih model terbaik di antara model berikut dengan metrik evaluasi yang menurut kalian paling sesuai:\n",
    "    * logistic regression\n",
    "    * decision tree classifier (max depth =3)\n",
    "\n",
    "Tampilkan atribut dari model yang terpilih (feature importance/coeficient)  \n",
    "    \n",
    "**Gunakan pipeline** untuk menghindari information leakage!"
   ]
  },
  {
   "cell_type": "code",
   "execution_count": 51,
   "metadata": {
    "ExecuteTime": {
     "end_time": "2022-01-18T01:36:07.766113Z",
     "start_time": "2022-01-18T01:36:07.281546Z"
    }
   },
   "outputs": [],
   "source": [
    "import seaborn as sns\n",
    "titanic=sns.load_dataset('titanic')\n",
    "x=titanic[['sex','age','fare','class','embark_town', 'alone']]\n",
    "y=titanic['survived']\n",
    "x_train,x_test,y_train,y_test= train_test_split(x,y,test_size=0.2, stratify=y, random_state=2020)"
   ]
  },
  {
   "cell_type": "code",
   "execution_count": 52,
   "metadata": {
    "ExecuteTime": {
     "end_time": "2022-01-18T01:36:07.781065Z",
     "start_time": "2022-01-18T01:36:07.767077Z"
    }
   },
   "outputs": [],
   "source": [
    "from sklearn.pipeline import Pipeline\n",
    "from sklearn.compose import ColumnTransformer\n",
    "from sklearn.preprocessing import OneHotEncoder,RobustScaler\n",
    "from sklearn.impute import SimpleImputer\n",
    "import category_encoders as ce"
   ]
  },
  {
   "cell_type": "code",
   "execution_count": 53,
   "metadata": {
    "ExecuteTime": {
     "end_time": "2022-01-18T01:36:07.796034Z",
     "start_time": "2022-01-18T01:36:07.782038Z"
    }
   },
   "outputs": [],
   "source": [
    "# Transformer\n",
    "pipe_onehot= Pipeline([\n",
    "    ('impute', SimpleImputer(strategy='most_frequent')),\n",
    "    ('onehot', ce.OneHotEncoder(drop_invariant=True))\n",
    "])\n",
    "ordinal_mapping = [\n",
    "    {'col':'class',\n",
    "    'mapping':{None:0,'First':1,'Second':2,'Third':3}}\n",
    "    ]\n",
    "\n",
    "transformer1=ColumnTransformer([\n",
    "    ('onehot',pipe_onehot,['sex', 'embark_town', 'alone']),\n",
    "    ('ordinal',ce.OrdinalEncoder(mapping = ordinal_mapping),['class']),\n",
    "    ('impute', SimpleImputer(strategy='median'),['age'])\n",
    "], remainder='passthrough')"
   ]
  },
  {
   "cell_type": "code",
   "execution_count": 54,
   "metadata": {
    "ExecuteTime": {
     "end_time": "2022-01-18T01:36:07.811990Z",
     "start_time": "2022-01-18T01:36:07.796998Z"
    }
   },
   "outputs": [],
   "source": [
    "pipe_scaling= Pipeline([\n",
    "    ('impute', SimpleImputer(strategy='median')),\n",
    "    ('scale', RobustScaler())])\n",
    "    \n",
    "transformer2=ColumnTransformer([\n",
    "    ('onehot',pipe_onehot,['sex', 'embark_town', 'alone']),\n",
    "    ('ordinal',ce.OrdinalEncoder(mapping = ordinal_mapping),['class']),\n",
    "    ('scaling', pipe_scaling,['age','fare'])\n",
    "], remainder='passthrough')"
   ]
  },
  {
   "cell_type": "code",
   "execution_count": 55,
   "metadata": {
    "ExecuteTime": {
     "end_time": "2022-01-18T01:36:07.827948Z",
     "start_time": "2022-01-18T01:36:07.812988Z"
    }
   },
   "outputs": [],
   "source": [
    "logreg=LogisticRegression(max_iter=1000,random_state=2020)\n",
    "tree=DecisionTreeClassifier(max_depth=3, random_state=2020)\n",
    "\n",
    "pipe_logreg=Pipeline([\n",
    "    ('transform',transformer2),\n",
    "    ('model', logreg)\n",
    "])\n",
    "\n",
    "pipe_tree=Pipeline([\n",
    "    ('transform',transformer1),\n",
    "    ('model', tree)\n",
    "])"
   ]
  },
  {
   "cell_type": "code",
   "execution_count": 56,
   "metadata": {
    "ExecuteTime": {
     "end_time": "2022-01-18T01:36:08.426448Z",
     "start_time": "2022-01-18T01:36:07.828913Z"
    }
   },
   "outputs": [],
   "source": [
    "models=[pipe_logreg,pipe_tree]\n",
    "score=[]\n",
    "rata=[]\n",
    "std=[]\n",
    "\n",
    "for i in models:\n",
    "    skfold= StratifiedKFold(n_splits=5)\n",
    "\n",
    "    model_cv=cross_val_score(i,x_train,y_train,cv=skfold,scoring='precision')\n",
    "    score.append(model_cv)\n",
    "    rata.append(model_cv.mean())\n",
    "    std.append(model_cv.std())"
   ]
  },
  {
   "cell_type": "code",
   "execution_count": 57,
   "metadata": {
    "ExecuteTime": {
     "end_time": "2022-01-18T01:36:08.441373Z",
     "start_time": "2022-01-18T01:36:08.427275Z"
    }
   },
   "outputs": [
    {
     "data": {
      "text/html": [
       "<div>\n",
       "<style scoped>\n",
       "    .dataframe tbody tr th:only-of-type {\n",
       "        vertical-align: middle;\n",
       "    }\n",
       "\n",
       "    .dataframe tbody tr th {\n",
       "        vertical-align: top;\n",
       "    }\n",
       "\n",
       "    .dataframe thead th {\n",
       "        text-align: right;\n",
       "    }\n",
       "</style>\n",
       "<table border=\"1\" class=\"dataframe\">\n",
       "  <thead>\n",
       "    <tr style=\"text-align: right;\">\n",
       "      <th></th>\n",
       "      <th>model</th>\n",
       "      <th>mean</th>\n",
       "      <th>std</th>\n",
       "    </tr>\n",
       "  </thead>\n",
       "  <tbody>\n",
       "    <tr>\n",
       "      <th>0</th>\n",
       "      <td>logreg</td>\n",
       "      <td>0.746070</td>\n",
       "      <td>0.066982</td>\n",
       "    </tr>\n",
       "    <tr>\n",
       "      <th>1</th>\n",
       "      <td>tree</td>\n",
       "      <td>0.793665</td>\n",
       "      <td>0.039396</td>\n",
       "    </tr>\n",
       "  </tbody>\n",
       "</table>\n",
       "</div>"
      ],
      "text/plain": [
       "    model      mean       std\n",
       "0  logreg  0.746070  0.066982\n",
       "1    tree  0.793665  0.039396"
      ]
     },
     "execution_count": 57,
     "metadata": {},
     "output_type": "execute_result"
    }
   ],
   "source": [
    "pd.DataFrame({\n",
    "    'model':['logreg','tree'],\n",
    "    'mean':rata,\n",
    "    'std':std\n",
    "})"
   ]
  },
  {
   "cell_type": "code",
   "execution_count": 58,
   "metadata": {
    "ExecuteTime": {
     "end_time": "2022-01-18T01:36:08.518846Z",
     "start_time": "2022-01-18T01:36:08.443372Z"
    }
   },
   "outputs": [
    {
     "name": "stdout",
     "output_type": "stream",
     "text": [
      "              precision    recall  f1-score   support\n",
      "\n",
      "           0       0.80      0.85      0.82       110\n",
      "           1       0.73      0.67      0.70        69\n",
      "\n",
      "    accuracy                           0.78       179\n",
      "   macro avg       0.77      0.76      0.76       179\n",
      "weighted avg       0.77      0.78      0.77       179\n",
      "\n"
     ]
    }
   ],
   "source": [
    "# pilih tree karena rata-rata lebih tinggi dan lebih stabil\n",
    "#performa di data test\n",
    "pipe_tree.fit(x_train,y_train)\n",
    "y_pred=pipe_tree.predict(x_test)\n",
    "print(classification_report(y_test,y_pred))"
   ]
  },
  {
   "cell_type": "code",
   "execution_count": 59,
   "metadata": {
    "ExecuteTime": {
     "end_time": "2022-01-18T01:36:08.533797Z",
     "start_time": "2022-01-18T01:36:08.519809Z"
    }
   },
   "outputs": [
    {
     "data": {
      "text/plain": [
       "[('onehot',\n",
       "  Pipeline(steps=[('impute', SimpleImputer(strategy='most_frequent')),\n",
       "                  ('onehot', OneHotEncoder(cols=[0, 1, 2], drop_invariant=True))]),\n",
       "  ['sex', 'embark_town', 'alone']),\n",
       " ('ordinal',\n",
       "  OrdinalEncoder(cols=['class'],\n",
       "                 mapping=[{'col': 'class',\n",
       "                           'mapping': {None: 0, 'First': 1, 'Second': 2,\n",
       "                                       'Third': 3}}]),\n",
       "  ['class']),\n",
       " ('impute', SimpleImputer(strategy='median'), ['age']),\n",
       " ('remainder', 'passthrough', [2])]"
      ]
     },
     "execution_count": 59,
     "metadata": {},
     "output_type": "execute_result"
    }
   ],
   "source": [
    "#koef\n",
    "pipe_tree[0].transformers_"
   ]
  },
  {
   "cell_type": "code",
   "execution_count": 60,
   "metadata": {
    "ExecuteTime": {
     "end_time": "2022-01-18T01:36:08.548967Z",
     "start_time": "2022-01-18T01:36:08.534769Z"
    }
   },
   "outputs": [],
   "source": [
    "feature=list(pipe_tree[0].transformers_[0][1][1].get_feature_names())+['class','age','fare']"
   ]
  },
  {
   "cell_type": "code",
   "execution_count": 61,
   "metadata": {
    "ExecuteTime": {
     "end_time": "2022-01-18T01:36:08.564856Z",
     "start_time": "2022-01-18T01:36:08.549894Z"
    }
   },
   "outputs": [
    {
     "data": {
      "text/html": [
       "<div>\n",
       "<style scoped>\n",
       "    .dataframe tbody tr th:only-of-type {\n",
       "        vertical-align: middle;\n",
       "    }\n",
       "\n",
       "    .dataframe tbody tr th {\n",
       "        vertical-align: top;\n",
       "    }\n",
       "\n",
       "    .dataframe thead th {\n",
       "        text-align: right;\n",
       "    }\n",
       "</style>\n",
       "<table border=\"1\" class=\"dataframe\">\n",
       "  <thead>\n",
       "    <tr style=\"text-align: right;\">\n",
       "      <th></th>\n",
       "      <th>importance</th>\n",
       "    </tr>\n",
       "  </thead>\n",
       "  <tbody>\n",
       "    <tr>\n",
       "      <th>0_1</th>\n",
       "      <td>0.000000</td>\n",
       "    </tr>\n",
       "    <tr>\n",
       "      <th>0_2</th>\n",
       "      <td>0.628704</td>\n",
       "    </tr>\n",
       "    <tr>\n",
       "      <th>1_1</th>\n",
       "      <td>0.000000</td>\n",
       "    </tr>\n",
       "    <tr>\n",
       "      <th>1_2</th>\n",
       "      <td>0.000000</td>\n",
       "    </tr>\n",
       "    <tr>\n",
       "      <th>1_3</th>\n",
       "      <td>0.000000</td>\n",
       "    </tr>\n",
       "    <tr>\n",
       "      <th>2_1</th>\n",
       "      <td>0.000000</td>\n",
       "    </tr>\n",
       "    <tr>\n",
       "      <th>2_2</th>\n",
       "      <td>0.000000</td>\n",
       "    </tr>\n",
       "    <tr>\n",
       "      <th>class</th>\n",
       "      <td>0.172485</td>\n",
       "    </tr>\n",
       "    <tr>\n",
       "      <th>age</th>\n",
       "      <td>0.064861</td>\n",
       "    </tr>\n",
       "    <tr>\n",
       "      <th>fare</th>\n",
       "      <td>0.133950</td>\n",
       "    </tr>\n",
       "  </tbody>\n",
       "</table>\n",
       "</div>"
      ],
      "text/plain": [
       "       importance\n",
       "0_1      0.000000\n",
       "0_2      0.628704\n",
       "1_1      0.000000\n",
       "1_2      0.000000\n",
       "1_3      0.000000\n",
       "2_1      0.000000\n",
       "2_2      0.000000\n",
       "class    0.172485\n",
       "age      0.064861\n",
       "fare     0.133950"
      ]
     },
     "execution_count": 61,
     "metadata": {},
     "output_type": "execute_result"
    }
   ],
   "source": [
    "pd.DataFrame({'importance':pipe_tree[1].feature_importances_},index=feature)"
   ]
  },
  {
   "cell_type": "markdown",
   "metadata": {},
   "source": [
    "# latihan 2\n",
    "Dengan menggunakan data titanic:  \n",
    "* x= *sex*, age, fare, *class*, *embark_town*, *alone*  \n",
    "* y= survived\n",
    "* test size 0.2\n",
    "* random state 2020\n",
    "\n",
    "\n",
    "Dan skema preprocesing berikut:\n",
    "* simple imputer most frequent: embark town\n",
    "* simple imputer median: age\n",
    "* onehot: sex, embark town, alone  \n",
    "* ordinal: class\n",
    "\n",
    "\n",
    "\n",
    "Coba lakukan tunning pada model yang sudah terpilih di latihan sebelumnya. Cari model dengan precision setinggi mungkin.\n",
    "    * decision tree classifier (max depth =3)\n",
    "\n",
    "Tampilkan atribut dari model yang terpilih (feature importance)  \n",
    "    \n",
    "**Gunakan pipeline** untuk menghindari information leakage!"
   ]
  },
  {
   "cell_type": "code",
   "execution_count": 62,
   "metadata": {
    "ExecuteTime": {
     "end_time": "2022-01-18T01:37:33.036647Z",
     "start_time": "2022-01-18T01:37:33.028668Z"
    }
   },
   "outputs": [],
   "source": [
    "pipe_tree=Pipeline([\n",
    "    ('transform',transformer1),\n",
    "    ('model', tree)\n",
    "])"
   ]
  },
  {
   "cell_type": "code",
   "execution_count": 63,
   "metadata": {
    "ExecuteTime": {
     "end_time": "2022-01-18T01:37:33.693991Z",
     "start_time": "2022-01-18T01:37:33.685023Z"
    }
   },
   "outputs": [],
   "source": [
    "hyperparam_space={\n",
    "    'model__max_depth':[1,2,3,4,5],\n",
    "    'model__min_samples_split':[2,5,10,15,25,50,75,85,100,200,300],\n",
    "    'model__min_samples_leaf':[1,2,5,10,15,25,50,75,100,200,300],\n",
    "    'model__criterion':['entropy','gini']\n",
    "}"
   ]
  },
  {
   "cell_type": "code",
   "execution_count": 66,
   "metadata": {
    "ExecuteTime": {
     "end_time": "2022-01-18T01:38:12.005482Z",
     "start_time": "2022-01-18T01:38:11.993547Z"
    }
   },
   "outputs": [],
   "source": [
    "skfold= StratifiedKFold(n_splits=5)\n",
    "grid_search= GridSearchCV(\n",
    "    pipe_tree, \n",
    "    param_grid=hyperparam_space, \n",
    "    cv=skfold,\n",
    "    scoring='precision',\n",
    "    n_jobs= -1 \n",
    ")"
   ]
  },
  {
   "cell_type": "code",
   "execution_count": 67,
   "metadata": {
    "ExecuteTime": {
     "end_time": "2022-01-18T01:39:45.203488Z",
     "start_time": "2022-01-18T01:38:12.587434Z"
    }
   },
   "outputs": [
    {
     "data": {
      "text/plain": [
       "GridSearchCV(cv=StratifiedKFold(n_splits=5, random_state=None, shuffle=False),\n",
       "             estimator=Pipeline(steps=[('transform',\n",
       "                                        ColumnTransformer(remainder='passthrough',\n",
       "                                                          transformers=[('onehot',\n",
       "                                                                         Pipeline(steps=[('impute',\n",
       "                                                                                          SimpleImputer(strategy='most_frequent')),\n",
       "                                                                                         ('onehot',\n",
       "                                                                                          OneHotEncoder(drop_invariant=True))]),\n",
       "                                                                         ['sex',\n",
       "                                                                          'embark_town',\n",
       "                                                                          'alone']),\n",
       "                                                                        ('ordinal',\n",
       "                                                                         OrdinalEncod...\n",
       "                                                                        ('impute',\n",
       "                                                                         SimpleImputer(strategy='median'),\n",
       "                                                                         ['age'])])),\n",
       "                                       ('model',\n",
       "                                        DecisionTreeClassifier(max_depth=3,\n",
       "                                                               random_state=2020))]),\n",
       "             n_jobs=-1,\n",
       "             param_grid={'model__criterion': ['entropy', 'gini'],\n",
       "                         'model__max_depth': [1, 2, 3, 4, 5],\n",
       "                         'model__min_samples_leaf': [1, 2, 5, 10, 15, 25, 50,\n",
       "                                                     75, 100, 200, 300],\n",
       "                         'model__min_samples_split': [2, 5, 10, 15, 25, 50, 75,\n",
       "                                                      85, 100, 200, 300]},\n",
       "             scoring='precision')"
      ]
     },
     "execution_count": 67,
     "metadata": {},
     "output_type": "execute_result"
    }
   ],
   "source": [
    "grid_search.fit(x_train,y_train)"
   ]
  },
  {
   "cell_type": "code",
   "execution_count": 68,
   "metadata": {
    "ExecuteTime": {
     "end_time": "2022-01-18T01:39:45.219416Z",
     "start_time": "2022-01-18T01:39:45.204453Z"
    }
   },
   "outputs": [
    {
     "data": {
      "text/plain": [
       "({'model__criterion': 'entropy',\n",
       "  'model__max_depth': 2,\n",
       "  'model__min_samples_leaf': 50,\n",
       "  'model__min_samples_split': 2},\n",
       " 0.9038993505611261)"
      ]
     },
     "execution_count": 68,
     "metadata": {},
     "output_type": "execute_result"
    }
   ],
   "source": [
    "grid_search.best_params_,grid_search.best_score_ "
   ]
  },
  {
   "cell_type": "code",
   "execution_count": 69,
   "metadata": {
    "ExecuteTime": {
     "end_time": "2022-01-18T01:39:45.299397Z",
     "start_time": "2022-01-18T01:39:45.221434Z"
    }
   },
   "outputs": [
    {
     "name": "stdout",
     "output_type": "stream",
     "text": [
      "              precision    recall  f1-score   support\n",
      "\n",
      "           0       0.80      0.85      0.82       110\n",
      "           1       0.73      0.67      0.70        69\n",
      "\n",
      "    accuracy                           0.78       179\n",
      "   macro avg       0.77      0.76      0.76       179\n",
      "weighted avg       0.77      0.78      0.77       179\n",
      "\n"
     ]
    }
   ],
   "source": [
    "pipe_tree.fit(x_train,y_train)\n",
    "y_pred=pipe_tree.predict(x_test)\n",
    "print(classification_report(y_test,y_pred))"
   ]
  },
  {
   "cell_type": "code",
   "execution_count": 70,
   "metadata": {
    "ExecuteTime": {
     "end_time": "2022-01-18T01:39:45.375450Z",
     "start_time": "2022-01-18T01:39:45.300326Z"
    }
   },
   "outputs": [
    {
     "name": "stdout",
     "output_type": "stream",
     "text": [
      "              precision    recall  f1-score   support\n",
      "\n",
      "           0       0.71      0.98      0.82       110\n",
      "           1       0.92      0.35      0.51        69\n",
      "\n",
      "    accuracy                           0.74       179\n",
      "   macro avg       0.81      0.66      0.66       179\n",
      "weighted avg       0.79      0.74      0.70       179\n",
      "\n"
     ]
    }
   ],
   "source": [
    "tree= grid_search.best_estimator_\n",
    "tree.fit(x_train,y_train)\n",
    "print(classification_report(y_test,tree.predict(x_test)))"
   ]
  },
  {
   "cell_type": "code",
   "execution_count": 76,
   "metadata": {
    "ExecuteTime": {
     "end_time": "2022-01-18T02:25:18.802535Z",
     "start_time": "2022-01-18T02:25:18.786545Z"
    }
   },
   "outputs": [],
   "source": [
    "feature=list(tree[0].transformers_[0][1][1].get_feature_names())+['class','age','fare']"
   ]
  },
  {
   "cell_type": "code",
   "execution_count": 75,
   "metadata": {
    "ExecuteTime": {
     "end_time": "2022-01-18T02:24:05.975526Z",
     "start_time": "2022-01-18T02:24:05.964586Z"
    }
   },
   "outputs": [
    {
     "data": {
      "text/html": [
       "<div>\n",
       "<style scoped>\n",
       "    .dataframe tbody tr th:only-of-type {\n",
       "        vertical-align: middle;\n",
       "    }\n",
       "\n",
       "    .dataframe tbody tr th {\n",
       "        vertical-align: top;\n",
       "    }\n",
       "\n",
       "    .dataframe thead th {\n",
       "        text-align: right;\n",
       "    }\n",
       "</style>\n",
       "<table border=\"1\" class=\"dataframe\">\n",
       "  <thead>\n",
       "    <tr style=\"text-align: right;\">\n",
       "      <th></th>\n",
       "      <th>importance</th>\n",
       "    </tr>\n",
       "  </thead>\n",
       "  <tbody>\n",
       "    <tr>\n",
       "      <th>0_1</th>\n",
       "      <td>0.000000</td>\n",
       "    </tr>\n",
       "    <tr>\n",
       "      <th>0_2</th>\n",
       "      <td>0.678670</td>\n",
       "    </tr>\n",
       "    <tr>\n",
       "      <th>1_1</th>\n",
       "      <td>0.000000</td>\n",
       "    </tr>\n",
       "    <tr>\n",
       "      <th>1_2</th>\n",
       "      <td>0.000000</td>\n",
       "    </tr>\n",
       "    <tr>\n",
       "      <th>1_3</th>\n",
       "      <td>0.000000</td>\n",
       "    </tr>\n",
       "    <tr>\n",
       "      <th>2_1</th>\n",
       "      <td>0.000000</td>\n",
       "    </tr>\n",
       "    <tr>\n",
       "      <th>2_2</th>\n",
       "      <td>0.000000</td>\n",
       "    </tr>\n",
       "    <tr>\n",
       "      <th>class</th>\n",
       "      <td>0.243918</td>\n",
       "    </tr>\n",
       "    <tr>\n",
       "      <th>age</th>\n",
       "      <td>0.000000</td>\n",
       "    </tr>\n",
       "    <tr>\n",
       "      <th>fare</th>\n",
       "      <td>0.077412</td>\n",
       "    </tr>\n",
       "  </tbody>\n",
       "</table>\n",
       "</div>"
      ],
      "text/plain": [
       "       importance\n",
       "0_1      0.000000\n",
       "0_2      0.678670\n",
       "1_1      0.000000\n",
       "1_2      0.000000\n",
       "1_3      0.000000\n",
       "2_1      0.000000\n",
       "2_2      0.000000\n",
       "class    0.243918\n",
       "age      0.000000\n",
       "fare     0.077412"
      ]
     },
     "execution_count": 75,
     "metadata": {},
     "output_type": "execute_result"
    }
   ],
   "source": [
    " pd.DataFrame({'importance':tree[1].feature_importances_}, index=feature)"
   ]
  },
  {
   "cell_type": "code",
   "execution_count": null,
   "metadata": {},
   "outputs": [],
   "source": []
  }
 ],
 "metadata": {
  "hide_input": false,
  "kernelspec": {
   "display_name": "Python 3",
   "language": "python",
   "name": "python3"
  },
  "language_info": {
   "codemirror_mode": {
    "name": "ipython",
    "version": 3
   },
   "file_extension": ".py",
   "mimetype": "text/x-python",
   "name": "python",
   "nbconvert_exporter": "python",
   "pygments_lexer": "ipython3",
   "version": "3.8.3"
  },
  "toc": {
   "base_numbering": 1,
   "nav_menu": {},
   "number_sections": true,
   "sideBar": true,
   "skip_h1_title": false,
   "title_cell": "Table of Contents",
   "title_sidebar": "Contents",
   "toc_cell": false,
   "toc_position": {},
   "toc_section_display": true,
   "toc_window_display": false
  }
 },
 "nbformat": 4,
 "nbformat_minor": 4
}
